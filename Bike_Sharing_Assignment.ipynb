{
 "cells": [
  {
   "cell_type": "markdown",
   "id": "222c9704",
   "metadata": {},
   "source": [
    "# Multivariate Linear Regression - BoomBikes Bike Sharing Assignment"
   ]
  },
  {
   "cell_type": "markdown",
   "id": "5d146115",
   "metadata": {},
   "source": [
    "## **Problem Statement**\n",
    "\n",
    "A bike-sharing system is a service in which bikes are made available for shared use to individuals on a short term basis for a price or free. Many bike share systems allow people to borrow a bike from a \"dock\" which is usually computer-controlled wherein the user enters the payment information, and the system unlocks it. This bike can then be returned to another dock belonging to the same system.\n",
    "\n",
    "\n",
    "A US bike-sharing provider **BoomBikes** has recently suffered considerable dips in their revenues due to the ongoing Corona pandemic. The company is finding it very difficult to sustain in the current market scenario. So, it has decided to come up with a mindful business plan to be able to accelerate its revenue as soon as the ongoing lockdown comes to an end, and the economy restores to a healthy state. \n",
    "\n",
    "\n",
    "In such an attempt, BoomBikes aspires to understand the demand for shared bikes among the people after this ongoing quarantine situation ends across the nation due to Covid-19. They have planned this to prepare themselves to cater to the people's needs once the situation gets better all around and stand out from other service providers and make huge profits.\n",
    "\n",
    "\n",
    "They have contracted a consulting company to understand the factors on which the demand for these shared bikes depends. Specifically, they want to understand the factors affecting the demand for these shared bikes in the American market. The company wants to know:\n",
    "\n",
    "* Which variables are significant in predicting the demand for shared bikes.\n",
    "* How well those variables describe the bike demands <br>\n",
    "\n",
    "Based on various meteorological surveys and people's styles, the service provider firm has gathered a large dataset on daily bike demands across the American market based on some factors. \n",
    "\n",
    "\n",
    "**Business Goal**:\n",
    "\n",
    "You are required to model the demand for shared bikes with the available independent variables. It will be used by the management to understand how exactly the demands vary with different features. They can accordingly manipulate the business strategy to meet the demand levels and meet the customer's expectations. Further, the model will be a good way for management to understand the demand dynamics of a new market. "
   ]
  },
  {
   "cell_type": "markdown",
   "id": "d49c1b37",
   "metadata": {},
   "source": [
    "## Step 1: Importing libraries and packages"
   ]
  },
  {
   "cell_type": "code",
   "execution_count": 12,
   "id": "5c4711eb",
   "metadata": {},
   "outputs": [],
   "source": [
    "import calendar\n",
    "import numpy as np\n",
    "import pandas as pd\n",
    "\n",
    "# Visualization libraries\n",
    "import matplotlib.pyplot as plt\n",
    "import seaborn as sns\n",
    "\n",
    "# Regression libraries\n",
    "from sklearn.model_selection import train_test_split\n",
    "from sklearn.preprocessing import StandardScaler\n",
    "from sklearn.feature_selection import RFE\n",
    "from sklearn.linear_model import LinearRegression\n",
    "from sklearn.metrics import r2_score, mean_squared_error\n",
    "\n",
    "import statsmodels.api as sm\n",
    "from statsmodels.stats.outliers_influence import variance_inflation_factor\n",
    "\n",
    "# Suppress warnings\n",
    "import warnings\n",
    "warnings.filterwarnings(action = 'ignore')"
   ]
  },
  {
   "cell_type": "markdown",
   "id": "97dd0bb1",
   "metadata": {},
   "source": [
    "## Step 2: Data Understanding, Preparation and EDA"
   ]
  },
  {
   "cell_type": "code",
   "execution_count": 14,
   "id": "e494da61",
   "metadata": {},
   "outputs": [],
   "source": [
    "# read the dataset\n",
    "bike_df = pd.read_csv('day.csv');"
   ]
  },
  {
   "cell_type": "code",
   "execution_count": 16,
   "id": "3ba867c8",
   "metadata": {},
   "outputs": [
    {
     "data": {
      "text/html": [
       "<div>\n",
       "<style scoped>\n",
       "    .dataframe tbody tr th:only-of-type {\n",
       "        vertical-align: middle;\n",
       "    }\n",
       "\n",
       "    .dataframe tbody tr th {\n",
       "        vertical-align: top;\n",
       "    }\n",
       "\n",
       "    .dataframe thead th {\n",
       "        text-align: right;\n",
       "    }\n",
       "</style>\n",
       "<table border=\"1\" class=\"dataframe\">\n",
       "  <thead>\n",
       "    <tr style=\"text-align: right;\">\n",
       "      <th></th>\n",
       "      <th>instant</th>\n",
       "      <th>dteday</th>\n",
       "      <th>season</th>\n",
       "      <th>yr</th>\n",
       "      <th>mnth</th>\n",
       "      <th>holiday</th>\n",
       "      <th>weekday</th>\n",
       "      <th>workingday</th>\n",
       "      <th>weathersit</th>\n",
       "      <th>temp</th>\n",
       "      <th>atemp</th>\n",
       "      <th>hum</th>\n",
       "      <th>windspeed</th>\n",
       "      <th>casual</th>\n",
       "      <th>registered</th>\n",
       "      <th>cnt</th>\n",
       "    </tr>\n",
       "  </thead>\n",
       "  <tbody>\n",
       "    <tr>\n",
       "      <th>0</th>\n",
       "      <td>1</td>\n",
       "      <td>01-01-2018</td>\n",
       "      <td>1</td>\n",
       "      <td>0</td>\n",
       "      <td>1</td>\n",
       "      <td>0</td>\n",
       "      <td>6</td>\n",
       "      <td>0</td>\n",
       "      <td>2</td>\n",
       "      <td>14.110847</td>\n",
       "      <td>18.18125</td>\n",
       "      <td>80.5833</td>\n",
       "      <td>10.749882</td>\n",
       "      <td>331</td>\n",
       "      <td>654</td>\n",
       "      <td>985</td>\n",
       "    </tr>\n",
       "    <tr>\n",
       "      <th>1</th>\n",
       "      <td>2</td>\n",
       "      <td>02-01-2018</td>\n",
       "      <td>1</td>\n",
       "      <td>0</td>\n",
       "      <td>1</td>\n",
       "      <td>0</td>\n",
       "      <td>0</td>\n",
       "      <td>0</td>\n",
       "      <td>2</td>\n",
       "      <td>14.902598</td>\n",
       "      <td>17.68695</td>\n",
       "      <td>69.6087</td>\n",
       "      <td>16.652113</td>\n",
       "      <td>131</td>\n",
       "      <td>670</td>\n",
       "      <td>801</td>\n",
       "    </tr>\n",
       "    <tr>\n",
       "      <th>2</th>\n",
       "      <td>3</td>\n",
       "      <td>03-01-2018</td>\n",
       "      <td>1</td>\n",
       "      <td>0</td>\n",
       "      <td>1</td>\n",
       "      <td>0</td>\n",
       "      <td>1</td>\n",
       "      <td>1</td>\n",
       "      <td>1</td>\n",
       "      <td>8.050924</td>\n",
       "      <td>9.47025</td>\n",
       "      <td>43.7273</td>\n",
       "      <td>16.636703</td>\n",
       "      <td>120</td>\n",
       "      <td>1229</td>\n",
       "      <td>1349</td>\n",
       "    </tr>\n",
       "    <tr>\n",
       "      <th>3</th>\n",
       "      <td>4</td>\n",
       "      <td>04-01-2018</td>\n",
       "      <td>1</td>\n",
       "      <td>0</td>\n",
       "      <td>1</td>\n",
       "      <td>0</td>\n",
       "      <td>2</td>\n",
       "      <td>1</td>\n",
       "      <td>1</td>\n",
       "      <td>8.200000</td>\n",
       "      <td>10.60610</td>\n",
       "      <td>59.0435</td>\n",
       "      <td>10.739832</td>\n",
       "      <td>108</td>\n",
       "      <td>1454</td>\n",
       "      <td>1562</td>\n",
       "    </tr>\n",
       "    <tr>\n",
       "      <th>4</th>\n",
       "      <td>5</td>\n",
       "      <td>05-01-2018</td>\n",
       "      <td>1</td>\n",
       "      <td>0</td>\n",
       "      <td>1</td>\n",
       "      <td>0</td>\n",
       "      <td>3</td>\n",
       "      <td>1</td>\n",
       "      <td>1</td>\n",
       "      <td>9.305237</td>\n",
       "      <td>11.46350</td>\n",
       "      <td>43.6957</td>\n",
       "      <td>12.522300</td>\n",
       "      <td>82</td>\n",
       "      <td>1518</td>\n",
       "      <td>1600</td>\n",
       "    </tr>\n",
       "  </tbody>\n",
       "</table>\n",
       "</div>"
      ],
      "text/plain": [
       "   instant      dteday  season  yr  mnth  holiday  weekday  workingday  \\\n",
       "0        1  01-01-2018       1   0     1        0        6           0   \n",
       "1        2  02-01-2018       1   0     1        0        0           0   \n",
       "2        3  03-01-2018       1   0     1        0        1           1   \n",
       "3        4  04-01-2018       1   0     1        0        2           1   \n",
       "4        5  05-01-2018       1   0     1        0        3           1   \n",
       "\n",
       "   weathersit       temp     atemp      hum  windspeed  casual  registered  \\\n",
       "0           2  14.110847  18.18125  80.5833  10.749882     331         654   \n",
       "1           2  14.902598  17.68695  69.6087  16.652113     131         670   \n",
       "2           1   8.050924   9.47025  43.7273  16.636703     120        1229   \n",
       "3           1   8.200000  10.60610  59.0435  10.739832     108        1454   \n",
       "4           1   9.305237  11.46350  43.6957  12.522300      82        1518   \n",
       "\n",
       "    cnt  \n",
       "0   985  \n",
       "1   801  \n",
       "2  1349  \n",
       "3  1562  \n",
       "4  1600  "
      ]
     },
     "execution_count": 16,
     "metadata": {},
     "output_type": "execute_result"
    }
   ],
   "source": [
    "# Inspect the first 5 rows of the dataframe\n",
    "bike_df.head()"
   ]
  },
  {
   "cell_type": "code",
   "execution_count": 18,
   "id": "88a8dcab",
   "metadata": {},
   "outputs": [
    {
     "data": {
      "text/plain": [
       "(730, 16)"
      ]
     },
     "execution_count": 18,
     "metadata": {},
     "output_type": "execute_result"
    }
   ],
   "source": [
    "# Inspecting the dimensions of the dataframe\n",
    "bike_df.shape"
   ]
  },
  {
   "cell_type": "code",
   "execution_count": 20,
   "id": "025ca0b7",
   "metadata": {},
   "outputs": [
    {
     "name": "stdout",
     "output_type": "stream",
     "text": [
      "<class 'pandas.core.frame.DataFrame'>\n",
      "RangeIndex: 730 entries, 0 to 729\n",
      "Data columns (total 16 columns):\n",
      " #   Column      Non-Null Count  Dtype  \n",
      "---  ------      --------------  -----  \n",
      " 0   instant     730 non-null    int64  \n",
      " 1   dteday      730 non-null    object \n",
      " 2   season      730 non-null    int64  \n",
      " 3   yr          730 non-null    int64  \n",
      " 4   mnth        730 non-null    int64  \n",
      " 5   holiday     730 non-null    int64  \n",
      " 6   weekday     730 non-null    int64  \n",
      " 7   workingday  730 non-null    int64  \n",
      " 8   weathersit  730 non-null    int64  \n",
      " 9   temp        730 non-null    float64\n",
      " 10  atemp       730 non-null    float64\n",
      " 11  hum         730 non-null    float64\n",
      " 12  windspeed   730 non-null    float64\n",
      " 13  casual      730 non-null    int64  \n",
      " 14  registered  730 non-null    int64  \n",
      " 15  cnt         730 non-null    int64  \n",
      "dtypes: float64(4), int64(11), object(1)\n",
      "memory usage: 91.4+ KB\n"
     ]
    }
   ],
   "source": [
    "bike_df.info()"
   ]
  },
  {
   "cell_type": "markdown",
   "id": "d6243c35",
   "metadata": {},
   "source": [
    "- ***There are 16 columns and 730 rows in the dataset.***\n",
    "- ***Some columns are categorical in nature (like `mnth`, `season`, `weekday` and `weathersit`), however, their datatype is int64 which needs to be handled later during the data cleaning process.***\n",
    "- ***There are definitely some columns (like `instant`, `dteday`, `casual`, `registered`) that can be dropped as they are irrelevant/redundant to our analysis and model building.***\n"
   ]
  },
  {
   "cell_type": "markdown",
   "id": "091bf54a",
   "metadata": {},
   "source": [
    "### Data Quality Checks"
   ]
  },
  {
   "cell_type": "markdown",
   "id": "0e886561",
   "metadata": {},
   "source": [
    "### Checking for percentage of null/missing values in the dataset"
   ]
  },
  {
   "cell_type": "code",
   "execution_count": 22,
   "id": "8043789e",
   "metadata": {},
   "outputs": [
    {
     "data": {
      "text/plain": [
       "0      0.0\n",
       "479    0.0\n",
       "481    0.0\n",
       "482    0.0\n",
       "483    0.0\n",
       "      ... \n",
       "245    0.0\n",
       "246    0.0\n",
       "247    0.0\n",
       "248    0.0\n",
       "729    0.0\n",
       "Length: 730, dtype: float64"
      ]
     },
     "execution_count": 22,
     "metadata": {},
     "output_type": "execute_result"
    }
   ],
   "source": [
    "# row-wise percentage of null values in the dataset in descending order\n",
    "round(100 * (bike_df.isnull().sum(axis = 1) / len(bike_df)), 2).sort_values(ascending = False)"
   ]
  },
  {
   "cell_type": "code",
   "execution_count": 7,
   "id": "d5442496",
   "metadata": {},
   "outputs": [
    {
     "data": {
      "text/plain": [
       "instant       0.0\n",
       "dteday        0.0\n",
       "season        0.0\n",
       "yr            0.0\n",
       "mnth          0.0\n",
       "holiday       0.0\n",
       "weekday       0.0\n",
       "workingday    0.0\n",
       "weathersit    0.0\n",
       "temp          0.0\n",
       "atemp         0.0\n",
       "hum           0.0\n",
       "windspeed     0.0\n",
       "casual        0.0\n",
       "registered    0.0\n",
       "cnt           0.0\n",
       "dtype: float64"
      ]
     },
     "execution_count": 7,
     "metadata": {},
     "output_type": "execute_result"
    }
   ],
   "source": [
    "# column-wise percentage of null values in the dataset in descending order\n",
    "round(100 * (bike_df.isnull().sum() / len(bike_df)), 2).sort_values(ascending = False)"
   ]
  },
  {
   "cell_type": "markdown",
   "id": "f58ddb95",
   "metadata": {},
   "source": [
    "##### There are no null values in the dataset."
   ]
  },
  {
   "cell_type": "markdown",
   "id": "ae5ac4d1",
   "metadata": {},
   "source": [
    "### Checking for duplicates in the dataset"
   ]
  },
  {
   "cell_type": "code",
   "execution_count": 8,
   "id": "bf8c2804",
   "metadata": {},
   "outputs": [],
   "source": [
    "# Dropping duplicates\n",
    "bike_df.drop_duplicates(inplace = True)"
   ]
  },
  {
   "cell_type": "code",
   "execution_count": 9,
   "id": "fa7ba917",
   "metadata": {},
   "outputs": [
    {
     "data": {
      "text/plain": [
       "(730, 16)"
      ]
     },
     "execution_count": 9,
     "metadata": {},
     "output_type": "execute_result"
    }
   ],
   "source": [
    "# Verifying the shape of the dataframe\n",
    "bike_df.shape"
   ]
  },
  {
   "cell_type": "markdown",
   "id": "6953e91a",
   "metadata": {},
   "source": [
    "##### There are no duplicates in the dataset."
   ]
  },
  {
   "cell_type": "markdown",
   "id": "0f95ee80",
   "metadata": {},
   "source": [
    "### Data Cleaning and Manipulation"
   ]
  },
  {
   "cell_type": "code",
   "execution_count": 10,
   "id": "b6e0716e",
   "metadata": {},
   "outputs": [
    {
     "data": {
      "text/plain": [
       "Index(['atemp', 'casual', 'cnt', 'dteday', 'holiday', 'hum', 'instant', 'mnth',\n",
       "       'registered', 'season', 'temp', 'weathersit', 'weekday', 'windspeed',\n",
       "       'workingday', 'yr'],\n",
       "      dtype='object')"
      ]
     },
     "execution_count": 10,
     "metadata": {},
     "output_type": "execute_result"
    }
   ],
   "source": [
    "# Checking out the columns present in the dataframe\n",
    "bike_df.columns.sort_values()"
   ]
  },
  {
   "cell_type": "markdown",
   "id": "d690480d",
   "metadata": {},
   "source": [
    "### Dropping columns from the dataset\n",
    "\n",
    "Removing columns with clear justifications:\n",
    "\n",
    "***1. Eliminated `casual` and `registered` as our focus is on total bike count.***\n",
    "\n",
    "***2. Dropped `instant` due to redundancy as it contains indexing numbers.***\n",
    "\n",
    "***3. Excluded `dteday` since `mnth` and `yr` columns provide sufficient date information.***"
   ]
  },
  {
   "cell_type": "code",
   "execution_count": 11,
   "id": "4a106923",
   "metadata": {},
   "outputs": [],
   "source": [
    "bike_df.drop(['casual', 'dteday', 'instant', 'registered'], axis = 1, inplace = True)"
   ]
  },
  {
   "cell_type": "code",
   "execution_count": 12,
   "id": "53c2cca8",
   "metadata": {},
   "outputs": [
    {
     "data": {
      "text/plain": [
       "(730, 12)"
      ]
     },
     "execution_count": 12,
     "metadata": {},
     "output_type": "execute_result"
    }
   ],
   "source": [
    "bike_df.shape"
   ]
  },
  {
   "cell_type": "markdown",
   "id": "d886daa6",
   "metadata": {},
   "source": [
    "### Data Conversion"
   ]
  },
  {
   "cell_type": "markdown",
   "id": "ff813197",
   "metadata": {},
   "source": [
    "**Converting `season` into a categorical variable as per data dictionary**"
   ]
  },
  {
   "cell_type": "code",
   "execution_count": 13,
   "id": "7874a879",
   "metadata": {},
   "outputs": [
    {
     "data": {
      "text/plain": [
       "3    188\n",
       "2    184\n",
       "1    180\n",
       "4    178\n",
       "Name: season, dtype: int64"
      ]
     },
     "execution_count": 13,
     "metadata": {},
     "output_type": "execute_result"
    }
   ],
   "source": [
    "# Check the different values for seasons in descending order\n",
    "bike_df['season'].value_counts(ascending = False)"
   ]
  },
  {
   "cell_type": "code",
   "execution_count": 14,
   "id": "3ce21e5b",
   "metadata": {},
   "outputs": [],
   "source": [
    "# Replace the numbers to different class values of season as per data dictionary\n",
    "bike_df['season'].replace({ 1: 'Spring', 2: 'Summer', 3: 'Fall', 4: 'Winter' }, inplace = True)"
   ]
  },
  {
   "cell_type": "code",
   "execution_count": 15,
   "id": "0f1ae397",
   "metadata": {},
   "outputs": [
    {
     "data": {
      "text/plain": [
       "Fall      188\n",
       "Summer    184\n",
       "Spring    180\n",
       "Winter    178\n",
       "Name: season, dtype: int64"
      ]
     },
     "execution_count": 15,
     "metadata": {},
     "output_type": "execute_result"
    }
   ],
   "source": [
    "# Confirm using the above values to ensure successful conversion.\n",
    "bike_df['season'].value_counts(ascending = False)"
   ]
  },
  {
   "cell_type": "markdown",
   "id": "3fa09f9e",
   "metadata": {},
   "source": [
    "**Converting `mnth` values (1, 2, ... , 11, 12) into a categorical variable like January, February, ... , November, December**"
   ]
  },
  {
   "cell_type": "code",
   "execution_count": 16,
   "id": "28c6f213",
   "metadata": {},
   "outputs": [
    {
     "data": {
      "text/plain": [
       "1     62\n",
       "3     62\n",
       "5     62\n",
       "7     62\n",
       "8     62\n",
       "10    62\n",
       "12    62\n",
       "4     60\n",
       "6     60\n",
       "9     60\n",
       "11    60\n",
       "2     56\n",
       "Name: mnth, dtype: int64"
      ]
     },
     "execution_count": 16,
     "metadata": {},
     "output_type": "execute_result"
    }
   ],
   "source": [
    "# Check the different values for months in descending order\n",
    "bike_df['mnth'].value_counts(ascending = False)"
   ]
  },
  {
   "cell_type": "code",
   "execution_count": 17,
   "id": "9d569362",
   "metadata": {},
   "outputs": [],
   "source": [
    "# Replace the numbers to different class values of the month\n",
    "bike_df['mnth'] = bike_df['mnth'].apply(lambda x: calendar.month_name[x])"
   ]
  },
  {
   "cell_type": "code",
   "execution_count": 18,
   "id": "abc2d184",
   "metadata": {},
   "outputs": [
    {
     "data": {
      "text/plain": [
       "January      62\n",
       "March        62\n",
       "May          62\n",
       "July         62\n",
       "August       62\n",
       "October      62\n",
       "December     62\n",
       "April        60\n",
       "June         60\n",
       "September    60\n",
       "November     60\n",
       "February     56\n",
       "Name: mnth, dtype: int64"
      ]
     },
     "execution_count": 18,
     "metadata": {},
     "output_type": "execute_result"
    }
   ],
   "source": [
    "# Confirm using the above values to ensure successful conversion.\n",
    "bike_df['mnth'].value_counts(ascending = False)"
   ]
  },
  {
   "cell_type": "markdown",
   "id": "771f172a",
   "metadata": {},
   "source": [
    "**Converting `weekday` values (0, 1, ... , 5, 6) into a categorical variable like Monday, Tuesday, ... , Saturday, Sunday**"
   ]
  },
  {
   "cell_type": "code",
   "execution_count": 19,
   "id": "60ad842b",
   "metadata": {},
   "outputs": [
    {
     "data": {
      "text/plain": [
       "6    105\n",
       "0    105\n",
       "1    105\n",
       "2    104\n",
       "4    104\n",
       "5    104\n",
       "3    103\n",
       "Name: weekday, dtype: int64"
      ]
     },
     "execution_count": 19,
     "metadata": {},
     "output_type": "execute_result"
    }
   ],
   "source": [
    "# Check the different values for weekday in descending order\n",
    "bike_df['weekday'].value_counts(ascending = False)"
   ]
  },
  {
   "cell_type": "code",
   "execution_count": 20,
   "id": "65716d65",
   "metadata": {},
   "outputs": [],
   "source": [
    "# Replace the numbers to different class values of weekday\n",
    "bike_df['weekday'] = bike_df['weekday'].apply(lambda x: calendar.day_name[x])"
   ]
  },
  {
   "cell_type": "code",
   "execution_count": 21,
   "id": "5664b793",
   "metadata": {},
   "outputs": [
    {
     "data": {
      "text/plain": [
       "Sunday       105\n",
       "Monday       105\n",
       "Tuesday      105\n",
       "Wednesday    104\n",
       "Friday       104\n",
       "Saturday     104\n",
       "Thursday     103\n",
       "Name: weekday, dtype: int64"
      ]
     },
     "execution_count": 21,
     "metadata": {},
     "output_type": "execute_result"
    }
   ],
   "source": [
    "# Confirm using the above values to ensure successful conversion.\n",
    "bike_df['weekday'].value_counts(ascending = False)"
   ]
  },
  {
   "cell_type": "markdown",
   "id": "85faf338",
   "metadata": {},
   "source": [
    "**Converting `weathersit` into a categorical variable as per data dictionary**"
   ]
  },
  {
   "cell_type": "code",
   "execution_count": 22,
   "id": "46d9cb4b",
   "metadata": {},
   "outputs": [
    {
     "data": {
      "text/plain": [
       "1    463\n",
       "2    246\n",
       "3     21\n",
       "Name: weathersit, dtype: int64"
      ]
     },
     "execution_count": 22,
     "metadata": {},
     "output_type": "execute_result"
    }
   ],
   "source": [
    "# Check the different values for weather in descending order\n",
    "bike_df['weathersit'].value_counts(ascending = False)"
   ]
  },
  {
   "cell_type": "markdown",
   "id": "831b4075",
   "metadata": {},
   "source": [
    "***The `weathersit` column comprises three entries, whereas the data dictionary enumerates four types with multiple labels for a single value. To enhance data clarity, we've mapped values as follows:***\n",
    "\n",
    "***1. Clear, Few clouds, Partly cloudy, Partly cloudy are mapped as Good*** <br>\n",
    "***2. Mist + Cloudy, Mist + Broken clouds, Mist + Few clouds, Mist are mapped as Moderate*** <br>\n",
    "***3. Light Snow, Light Rain + Thunderstorm + Scattered clouds, Light Rain + Scattered clouds are mapped as Bad*** <br>\n",
    "***4. Heavy Rain + Ice Pallets + Thunderstorm + Mist, Snow + Fog are mapped as Severe*** <br>\n",
    "\n",
    "***For uniform cleaning across a broader dataset, we'll replace values from 1 to 4***"
   ]
  },
  {
   "cell_type": "code",
   "execution_count": 23,
   "id": "3c71080e",
   "metadata": {},
   "outputs": [],
   "source": [
    "bike_df['weathersit'].replace({ 1: 'Good', 2: 'Moderate', 3: 'Bad', 4: 'Severe' }, inplace = True)"
   ]
  },
  {
   "cell_type": "code",
   "execution_count": 24,
   "id": "c3e5fa26",
   "metadata": {},
   "outputs": [
    {
     "data": {
      "text/plain": [
       "Good        463\n",
       "Moderate    246\n",
       "Bad          21\n",
       "Name: weathersit, dtype: int64"
      ]
     },
     "execution_count": 24,
     "metadata": {},
     "output_type": "execute_result"
    }
   ],
   "source": [
    "# Confirm using the above values to ensure successful conversion.\n",
    "bike_df['weathersit'].value_counts(ascending = False)"
   ]
  },
  {
   "cell_type": "code",
   "execution_count": 25,
   "id": "5cf03d56",
   "metadata": {},
   "outputs": [
    {
     "data": {
      "text/html": [
       "<div>\n",
       "<style scoped>\n",
       "    .dataframe tbody tr th:only-of-type {\n",
       "        vertical-align: middle;\n",
       "    }\n",
       "\n",
       "    .dataframe tbody tr th {\n",
       "        vertical-align: top;\n",
       "    }\n",
       "\n",
       "    .dataframe thead th {\n",
       "        text-align: right;\n",
       "    }\n",
       "</style>\n",
       "<table border=\"1\" class=\"dataframe\">\n",
       "  <thead>\n",
       "    <tr style=\"text-align: right;\">\n",
       "      <th></th>\n",
       "      <th>season</th>\n",
       "      <th>yr</th>\n",
       "      <th>mnth</th>\n",
       "      <th>holiday</th>\n",
       "      <th>weekday</th>\n",
       "      <th>workingday</th>\n",
       "      <th>weathersit</th>\n",
       "      <th>temp</th>\n",
       "      <th>atemp</th>\n",
       "      <th>hum</th>\n",
       "      <th>windspeed</th>\n",
       "      <th>cnt</th>\n",
       "    </tr>\n",
       "  </thead>\n",
       "  <tbody>\n",
       "    <tr>\n",
       "      <th>0</th>\n",
       "      <td>Spring</td>\n",
       "      <td>0</td>\n",
       "      <td>January</td>\n",
       "      <td>0</td>\n",
       "      <td>Sunday</td>\n",
       "      <td>0</td>\n",
       "      <td>Moderate</td>\n",
       "      <td>14.110847</td>\n",
       "      <td>18.18125</td>\n",
       "      <td>80.5833</td>\n",
       "      <td>10.749882</td>\n",
       "      <td>985</td>\n",
       "    </tr>\n",
       "    <tr>\n",
       "      <th>1</th>\n",
       "      <td>Spring</td>\n",
       "      <td>0</td>\n",
       "      <td>January</td>\n",
       "      <td>0</td>\n",
       "      <td>Monday</td>\n",
       "      <td>0</td>\n",
       "      <td>Moderate</td>\n",
       "      <td>14.902598</td>\n",
       "      <td>17.68695</td>\n",
       "      <td>69.6087</td>\n",
       "      <td>16.652113</td>\n",
       "      <td>801</td>\n",
       "    </tr>\n",
       "    <tr>\n",
       "      <th>2</th>\n",
       "      <td>Spring</td>\n",
       "      <td>0</td>\n",
       "      <td>January</td>\n",
       "      <td>0</td>\n",
       "      <td>Tuesday</td>\n",
       "      <td>1</td>\n",
       "      <td>Good</td>\n",
       "      <td>8.050924</td>\n",
       "      <td>9.47025</td>\n",
       "      <td>43.7273</td>\n",
       "      <td>16.636703</td>\n",
       "      <td>1349</td>\n",
       "    </tr>\n",
       "    <tr>\n",
       "      <th>3</th>\n",
       "      <td>Spring</td>\n",
       "      <td>0</td>\n",
       "      <td>January</td>\n",
       "      <td>0</td>\n",
       "      <td>Wednesday</td>\n",
       "      <td>1</td>\n",
       "      <td>Good</td>\n",
       "      <td>8.200000</td>\n",
       "      <td>10.60610</td>\n",
       "      <td>59.0435</td>\n",
       "      <td>10.739832</td>\n",
       "      <td>1562</td>\n",
       "    </tr>\n",
       "    <tr>\n",
       "      <th>4</th>\n",
       "      <td>Spring</td>\n",
       "      <td>0</td>\n",
       "      <td>January</td>\n",
       "      <td>0</td>\n",
       "      <td>Thursday</td>\n",
       "      <td>1</td>\n",
       "      <td>Good</td>\n",
       "      <td>9.305237</td>\n",
       "      <td>11.46350</td>\n",
       "      <td>43.6957</td>\n",
       "      <td>12.522300</td>\n",
       "      <td>1600</td>\n",
       "    </tr>\n",
       "  </tbody>\n",
       "</table>\n",
       "</div>"
      ],
      "text/plain": [
       "   season  yr     mnth  holiday    weekday  workingday weathersit       temp  \\\n",
       "0  Spring   0  January        0     Sunday           0   Moderate  14.110847   \n",
       "1  Spring   0  January        0     Monday           0   Moderate  14.902598   \n",
       "2  Spring   0  January        0    Tuesday           1       Good   8.050924   \n",
       "3  Spring   0  January        0  Wednesday           1       Good   8.200000   \n",
       "4  Spring   0  January        0   Thursday           1       Good   9.305237   \n",
       "\n",
       "      atemp      hum  windspeed   cnt  \n",
       "0  18.18125  80.5833  10.749882   985  \n",
       "1  17.68695  69.6087  16.652113   801  \n",
       "2   9.47025  43.7273  16.636703  1349  \n",
       "3  10.60610  59.0435  10.739832  1562  \n",
       "4  11.46350  43.6957  12.522300  1600  "
      ]
     },
     "execution_count": 25,
     "metadata": {},
     "output_type": "execute_result"
    }
   ],
   "source": [
    "# Inspecting the values in the dataframe after data conversion\n",
    "bike_df.head()"
   ]
  },
  {
   "cell_type": "markdown",
   "id": "d7327182",
   "metadata": {},
   "source": [
    "### Exploratory Data Analysis (EDA)"
   ]
  },
  {
   "cell_type": "markdown",
   "id": "0071bdc3",
   "metadata": {},
   "source": [
    "### Univariate Analysis"
   ]
  },
  {
   "cell_type": "code",
   "execution_count": 26,
   "id": "8021c571",
   "metadata": {},
   "outputs": [
    {
     "data": {
      "image/png": "[encoded data removed]",
      "text/plain": [
       "<Figure size 2000x500 with 4 Axes>"
      ]
     },
     "metadata": {},
     "output_type": "display_data"
    }
   ],
   "source": [
    "# Analysing the continuous (numerical) variables\n",
    "\n",
    "continuous_config = {\n",
    "    'atemp': { 'color': 'teal' },\n",
    "    'hum': { 'color': 'seagreen' },\n",
    "    'temp': { 'color': 'olive' },\n",
    "    'windspeed': { 'color': 'lightseagreen' }\n",
    "}\n",
    "\n",
    "fig, ax = plt.subplots(nrows = 1, ncols = 4, figsize = (20, 5))\n",
    "\n",
    "for i, (cont, config) in enumerate(continuous_config.items()):\n",
    "    sns.histplot(data = bike_df, x = cont, ax = ax[i], color = config['color'], kde = True)\n",
    "\n",
    "plt.show()"
   ]
  },
  {
   "cell_type": "markdown",
   "id": "292edb1d",
   "metadata": {},
   "source": [
    "- ***Bikes were rented at an average temperature (`temp`) of 20°C.***\n",
    "- ***The average feeling temperature (`atemp`) during bike rentals is approximately 24°C.***\n",
    "- ***Humidity (`hum`) averaged around 62 during bike rentals.***\n",
    "- ***The average windspeed (`windspeed`) during bike rentals is approximately 12.***"
   ]
  },
  {
   "cell_type": "markdown",
   "id": "a050a076",
   "metadata": {},
   "source": [
    "### Bivariate Analysis"
   ]
  },
  {
   "cell_type": "code",
   "execution_count": 28,
   "id": "2701c2ba",
   "metadata": {},
   "outputs": [
    {
     "data": {
      "image/png": "[encoded data removed]",
      "text/plain": [
       "<Figure size 1085.5x250 with 4 Axes>"
      ]
     },
     "metadata": {},
     "output_type": "display_data"
    }
   ],
   "source": [
    "# Draw pairplot for continuous independent numeric variables against a dependent variable `cnt`\n",
    "sns.pairplot(data = bike_df, x_vars = list(continuous_config.keys()), y_vars = ['cnt'], hue = 'cnt', palette = 'inferno')\n",
    "plt.show()"
   ]
  },
  {
   "cell_type": "code",
   "execution_count": 29,
   "id": "408463fa",
   "metadata": {},
   "outputs": [
    {
     "data": {
      "text/html": [
       "<div>\n",
       "<style scoped>\n",
       "    .dataframe tbody tr th:only-of-type {\n",
       "        vertical-align: middle;\n",
       "    }\n",
       "\n",
       "    .dataframe tbody tr th {\n",
       "        vertical-align: top;\n",
       "    }\n",
       "\n",
       "    .dataframe thead th {\n",
       "        text-align: right;\n",
       "    }\n",
       "</style>\n",
       "<table border=\"1\" class=\"dataframe\">\n",
       "  <thead>\n",
       "    <tr style=\"text-align: right;\">\n",
       "      <th></th>\n",
       "      <th>atemp</th>\n",
       "      <th>hum</th>\n",
       "      <th>temp</th>\n",
       "      <th>windspeed</th>\n",
       "      <th>cnt</th>\n",
       "    </tr>\n",
       "  </thead>\n",
       "  <tbody>\n",
       "    <tr>\n",
       "      <th>atemp</th>\n",
       "      <td>1.000000</td>\n",
       "      <td>0.141512</td>\n",
       "      <td>0.991696</td>\n",
       "      <td>-0.183876</td>\n",
       "      <td>0.630685</td>\n",
       "    </tr>\n",
       "    <tr>\n",
       "      <th>hum</th>\n",
       "      <td>0.141512</td>\n",
       "      <td>1.000000</td>\n",
       "      <td>0.128565</td>\n",
       "      <td>-0.248506</td>\n",
       "      <td>-0.098543</td>\n",
       "    </tr>\n",
       "    <tr>\n",
       "      <th>temp</th>\n",
       "      <td>0.991696</td>\n",
       "      <td>0.128565</td>\n",
       "      <td>1.000000</td>\n",
       "      <td>-0.158186</td>\n",
       "      <td>0.627044</td>\n",
       "    </tr>\n",
       "    <tr>\n",
       "      <th>windspeed</th>\n",
       "      <td>-0.183876</td>\n",
       "      <td>-0.248506</td>\n",
       "      <td>-0.158186</td>\n",
       "      <td>1.000000</td>\n",
       "      <td>-0.235132</td>\n",
       "    </tr>\n",
       "    <tr>\n",
       "      <th>cnt</th>\n",
       "      <td>0.630685</td>\n",
       "      <td>-0.098543</td>\n",
       "      <td>0.627044</td>\n",
       "      <td>-0.235132</td>\n",
       "      <td>1.000000</td>\n",
       "    </tr>\n",
       "  </tbody>\n",
       "</table>\n",
       "</div>"
      ],
      "text/plain": [
       "              atemp       hum      temp  windspeed       cnt\n",
       "atemp      1.000000  0.141512  0.991696  -0.183876  0.630685\n",
       "hum        0.141512  1.000000  0.128565  -0.248506 -0.098543\n",
       "temp       0.991696  0.128565  1.000000  -0.158186  0.627044\n",
       "windspeed -0.183876 -0.248506 -0.158186   1.000000 -0.235132\n",
       "cnt        0.630685 -0.098543  0.627044  -0.235132  1.000000"
      ]
     },
     "execution_count": 29,
     "metadata": {},
     "output_type": "execute_result"
    }
   ],
   "source": [
    "# Correlation between numerical variables\n",
    "bike_df[list(continuous_config.keys()) + ['cnt']].corr(numeric_only = True)"
   ]
  },
  {
   "cell_type": "code",
   "execution_count": 30,
   "id": "febfaafb",
   "metadata": {},
   "outputs": [
    {
     "data": {
      "image/png": "[encoded data removed]",
      "text/plain": [
       "<Figure size 1000x800 with 2 Axes>"
      ]
     },
     "metadata": {},
     "output_type": "display_data"
    }
   ],
   "source": [
    "plt.figure(figsize = (10, 8))\n",
    "corr_df = bike_df[list(continuous_config.keys()) + ['cnt']].corr(numeric_only = True)\n",
    "sns.heatmap(data = corr_df, annot = True, cmap = 'OrRd')\n",
    "plt.show()"
   ]
  },
  {
   "cell_type": "markdown",
   "id": "f25935f3",
   "metadata": {},
   "source": [
    "- ***`atemp` and `temp` exhibit a strong correlation with `cnt`, indicating that favorable temperatures are conducive to biking.***\n",
    "- ***`atemp` and `temp` show a strong correlation, suggesting potential redundancy. Consider employing feature elimination to assess and remove one of them.***\n",
    "- ***`windspeed` and `hum` is negatively correlated with bike rentals, indicating unfavorable biking conditions.***"
   ]
  },
  {
   "cell_type": "code",
   "execution_count": 31,
   "id": "fe82634d",
   "metadata": {},
   "outputs": [
    {
     "data": {
      "image/png": "[encoded data removed]",
      "text/plain": [
       "<Figure size 1500x1500 with 7 Axes>"
      ]
     },
     "metadata": {},
     "output_type": "display_data"
    }
   ],
   "source": [
    "# Draw boxplot for categorical variables against a dependent variable `cnt`\n",
    "plt.figure(figsize = (15, 15))\n",
    "for i, (cat, config) in enumerate(categorical_config.items()):\n",
    "    plt.subplot(3, 3, i+1)\n",
    "    sns.boxplot(data = bike_df, x = cat, y = 'cnt')\n",
    "    plt.xticks(rotation = config['rotation'])\n",
    "\n",
    "plt.tight_layout()    \n",
    "plt.show()"
   ]
  },
  {
   "cell_type": "markdown",
   "id": "0b8256a7",
   "metadata": {},
   "source": [
    "- ***Fall season had slightly higher bike rentals than Summer.***\n",
    "- ***2019 had more bike rentals than 2018.***\n",
    "- ***Peak bike rentals occurred during July-September.***\n",
    "- ***Bikes were rented more on non-holiday and working days.***\n",
    "- ***The highest bike rentals were observed during good weather conditions.***"
   ]
  },
  {
   "cell_type": "code",
   "execution_count": 32,
   "id": "29044747",
   "metadata": {},
   "outputs": [
    {
     "data": {
      "image/png": "[encoded data removed]",
      "text/plain": [
       "<Figure size 800x800 with 2 Axes>"
      ]
     },
     "metadata": {},
     "output_type": "display_data"
    }
   ],
   "source": [
    "# Verifying the correlation\n",
    "plt.figure(figsize = (8, 8))\n",
    "corr_df = bike_df[list(categorical_config.keys()) + ['cnt']].corr(numeric_only = True)\n",
    "sns.heatmap(data = corr_df, annot = True, cmap = 'OrRd')\n",
    "plt.show()"
   ]
  },
  {
   "cell_type": "markdown",
   "id": "890b7f63",
   "metadata": {},
   "source": [
    "- ***`yr` is having the best positive correlation among all categorical variables.***"
   ]
  },
  {
   "cell_type": "markdown",
   "id": "c9686306",
   "metadata": {},
   "source": [
    "### Data Preparation"
   ]
  },
  {
   "cell_type": "markdown",
   "id": "2ac45034",
   "metadata": {},
   "source": [
    "### Creation of Dummy Variables (One Hot Encoding)"
   ]
  },
  {
   "cell_type": "markdown",
   "id": "5bd1db24",
   "metadata": {},
   "source": [
    "##### Dummy variables are only required if the categorical values are more than 2 unique values. They dummy variables are always number of unique values  - 1. We can drop any column, but generally, we drop the first column."
   ]
  },
  {
   "cell_type": "code",
   "execution_count": 35,
   "id": "2dead33b",
   "metadata": {},
   "outputs": [
    {
     "data": {
      "text/plain": [
       "Index(['season', 'yr', 'mnth', 'holiday', 'weekday', 'workingday',\n",
       "       'weathersit', 'temp', 'atemp', 'hum', 'windspeed', 'cnt'],\n",
       "      dtype='object')"
      ]
     },
     "execution_count": 35,
     "metadata": {},
     "output_type": "execute_result"
    }
   ],
   "source": [
    "bike_df.columns"
   ]
  },
  {
   "cell_type": "code",
   "execution_count": 36,
   "id": "30772ab0",
   "metadata": {},
   "outputs": [
    {
     "data": {
      "text/plain": [
       "season         4\n",
       "yr             2\n",
       "mnth          12\n",
       "holiday        2\n",
       "weekday        7\n",
       "workingday     2\n",
       "weathersit     3\n",
       "dtype: int64"
      ]
     },
     "execution_count": 36,
     "metadata": {},
     "output_type": "execute_result"
    }
   ],
   "source": [
    "cat_cols = ['season', 'yr', 'mnth', 'holiday', 'weekday', 'workingday', 'weathersit']\n",
    "bike_df[cat_cols].nunique()"
   ]
  },
  {
   "cell_type": "markdown",
   "id": "90801790",
   "metadata": {},
   "source": [
    "- ***Only the categorical variables - `season`, `mnth`, `weekday`, and `weathersit`, among those mentioned, have more than 2 unique values. Dummy variables will be created exclusively for these columns.***"
   ]
  },
  {
   "cell_type": "code",
   "execution_count": 37,
   "id": "fead96a1",
   "metadata": {},
   "outputs": [],
   "source": [
    "bike_df = pd.get_dummies(data = bike_df, columns = ['season', 'mnth', 'weekday', 'weathersit'], drop_first = True, prefix = '', prefix_sep = '')"
   ]
  },
  {
   "cell_type": "markdown",
   "id": "f77b0feb",
   "metadata": {},
   "source": [
    "- ***Dropping the first column in each category (`season`, `mnth`, `weekday`, `weathersit`) reduces the number of dummy variables to (n - 1) for explaining n categories.***"
   ]
  },
  {
   "cell_type": "code",
   "execution_count": 38,
   "id": "0738fac1",
   "metadata": {},
   "outputs": [
    {
     "data": {
      "text/html": [
       "<div>\n",
       "<style scoped>\n",
       "    .dataframe tbody tr th:only-of-type {\n",
       "        vertical-align: middle;\n",
       "    }\n",
       "\n",
       "    .dataframe tbody tr th {\n",
       "        vertical-align: top;\n",
       "    }\n",
       "\n",
       "    .dataframe thead th {\n",
       "        text-align: right;\n",
       "    }\n",
       "</style>\n",
       "<table border=\"1\" class=\"dataframe\">\n",
       "  <thead>\n",
       "    <tr style=\"text-align: right;\">\n",
       "      <th></th>\n",
       "      <th>yr</th>\n",
       "      <th>holiday</th>\n",
       "      <th>workingday</th>\n",
       "      <th>temp</th>\n",
       "      <th>atemp</th>\n",
       "      <th>hum</th>\n",
       "      <th>windspeed</th>\n",
       "      <th>cnt</th>\n",
       "      <th>Spring</th>\n",
       "      <th>Summer</th>\n",
       "      <th>...</th>\n",
       "      <th>October</th>\n",
       "      <th>September</th>\n",
       "      <th>Monday</th>\n",
       "      <th>Saturday</th>\n",
       "      <th>Sunday</th>\n",
       "      <th>Thursday</th>\n",
       "      <th>Tuesday</th>\n",
       "      <th>Wednesday</th>\n",
       "      <th>Good</th>\n",
       "      <th>Moderate</th>\n",
       "    </tr>\n",
       "  </thead>\n",
       "  <tbody>\n",
       "    <tr>\n",
       "      <th>0</th>\n",
       "      <td>0</td>\n",
       "      <td>0</td>\n",
       "      <td>0</td>\n",
       "      <td>14.110847</td>\n",
       "      <td>18.18125</td>\n",
       "      <td>80.5833</td>\n",
       "      <td>10.749882</td>\n",
       "      <td>985</td>\n",
       "      <td>1</td>\n",
       "      <td>0</td>\n",
       "      <td>...</td>\n",
       "      <td>0</td>\n",
       "      <td>0</td>\n",
       "      <td>0</td>\n",
       "      <td>0</td>\n",
       "      <td>1</td>\n",
       "      <td>0</td>\n",
       "      <td>0</td>\n",
       "      <td>0</td>\n",
       "      <td>0</td>\n",
       "      <td>1</td>\n",
       "    </tr>\n",
       "    <tr>\n",
       "      <th>1</th>\n",
       "      <td>0</td>\n",
       "      <td>0</td>\n",
       "      <td>0</td>\n",
       "      <td>14.902598</td>\n",
       "      <td>17.68695</td>\n",
       "      <td>69.6087</td>\n",
       "      <td>16.652113</td>\n",
       "      <td>801</td>\n",
       "      <td>1</td>\n",
       "      <td>0</td>\n",
       "      <td>...</td>\n",
       "      <td>0</td>\n",
       "      <td>0</td>\n",
       "      <td>1</td>\n",
       "      <td>0</td>\n",
       "      <td>0</td>\n",
       "      <td>0</td>\n",
       "      <td>0</td>\n",
       "      <td>0</td>\n",
       "      <td>0</td>\n",
       "      <td>1</td>\n",
       "    </tr>\n",
       "    <tr>\n",
       "      <th>2</th>\n",
       "      <td>0</td>\n",
       "      <td>0</td>\n",
       "      <td>1</td>\n",
       "      <td>8.050924</td>\n",
       "      <td>9.47025</td>\n",
       "      <td>43.7273</td>\n",
       "      <td>16.636703</td>\n",
       "      <td>1349</td>\n",
       "      <td>1</td>\n",
       "      <td>0</td>\n",
       "      <td>...</td>\n",
       "      <td>0</td>\n",
       "      <td>0</td>\n",
       "      <td>0</td>\n",
       "      <td>0</td>\n",
       "      <td>0</td>\n",
       "      <td>0</td>\n",
       "      <td>1</td>\n",
       "      <td>0</td>\n",
       "      <td>1</td>\n",
       "      <td>0</td>\n",
       "    </tr>\n",
       "    <tr>\n",
       "      <th>3</th>\n",
       "      <td>0</td>\n",
       "      <td>0</td>\n",
       "      <td>1</td>\n",
       "      <td>8.200000</td>\n",
       "      <td>10.60610</td>\n",
       "      <td>59.0435</td>\n",
       "      <td>10.739832</td>\n",
       "      <td>1562</td>\n",
       "      <td>1</td>\n",
       "      <td>0</td>\n",
       "      <td>...</td>\n",
       "      <td>0</td>\n",
       "      <td>0</td>\n",
       "      <td>0</td>\n",
       "      <td>0</td>\n",
       "      <td>0</td>\n",
       "      <td>0</td>\n",
       "      <td>0</td>\n",
       "      <td>1</td>\n",
       "      <td>1</td>\n",
       "      <td>0</td>\n",
       "    </tr>\n",
       "    <tr>\n",
       "      <th>4</th>\n",
       "      <td>0</td>\n",
       "      <td>0</td>\n",
       "      <td>1</td>\n",
       "      <td>9.305237</td>\n",
       "      <td>11.46350</td>\n",
       "      <td>43.6957</td>\n",
       "      <td>12.522300</td>\n",
       "      <td>1600</td>\n",
       "      <td>1</td>\n",
       "      <td>0</td>\n",
       "      <td>...</td>\n",
       "      <td>0</td>\n",
       "      <td>0</td>\n",
       "      <td>0</td>\n",
       "      <td>0</td>\n",
       "      <td>0</td>\n",
       "      <td>1</td>\n",
       "      <td>0</td>\n",
       "      <td>0</td>\n",
       "      <td>1</td>\n",
       "      <td>0</td>\n",
       "    </tr>\n",
       "  </tbody>\n",
       "</table>\n",
       "<p>5 rows × 30 columns</p>\n",
       "</div>"
      ],
      "text/plain": [
       "   yr  holiday  workingday       temp     atemp      hum  windspeed   cnt  \\\n",
       "0   0        0           0  14.110847  18.18125  80.5833  10.749882   985   \n",
       "1   0        0           0  14.902598  17.68695  69.6087  16.652113   801   \n",
       "2   0        0           1   8.050924   9.47025  43.7273  16.636703  1349   \n",
       "3   0        0           1   8.200000  10.60610  59.0435  10.739832  1562   \n",
       "4   0        0           1   9.305237  11.46350  43.6957  12.522300  1600   \n",
       "\n",
       "   Spring  Summer  ...  October  September  Monday  Saturday  Sunday  \\\n",
       "0       1       0  ...        0          0       0         0       1   \n",
       "1       1       0  ...        0          0       1         0       0   \n",
       "2       1       0  ...        0          0       0         0       0   \n",
       "3       1       0  ...        0          0       0         0       0   \n",
       "4       1       0  ...        0          0       0         0       0   \n",
       "\n",
       "   Thursday  Tuesday  Wednesday  Good  Moderate  \n",
       "0         0        0          0     0         1  \n",
       "1         0        0          0     0         1  \n",
       "2         0        1          0     1         0  \n",
       "3         0        0          1     1         0  \n",
       "4         1        0          0     1         0  \n",
       "\n",
       "[5 rows x 30 columns]"
      ]
     },
     "execution_count": 38,
     "metadata": {},
     "output_type": "execute_result"
    }
   ],
   "source": [
    "# Inspecting the new bike dataframe\n",
    "bike_df.head()"
   ]
  },
  {
   "cell_type": "code",
   "execution_count": 39,
   "id": "ef6483fa",
   "metadata": {},
   "outputs": [
    {
     "data": {
      "text/plain": [
       "Index(['yr', 'holiday', 'workingday', 'temp', 'atemp', 'hum', 'windspeed',\n",
       "       'cnt', 'Spring', 'Summer', 'Winter', 'August', 'December', 'February',\n",
       "       'January', 'July', 'June', 'March', 'May', 'November', 'October',\n",
       "       'September', 'Monday', 'Saturday', 'Sunday', 'Thursday', 'Tuesday',\n",
       "       'Wednesday', 'Good', 'Moderate'],\n",
       "      dtype='object')"
      ]
     },
     "execution_count": 39,
     "metadata": {},
     "output_type": "execute_result"
    }
   ],
   "source": [
    "# Inspecting the columns in dataframe\n",
    "bike_df.columns"
   ]
  },
  {
   "cell_type": "code",
   "execution_count": 41,
   "id": "1aace849",
   "metadata": {},
   "outputs": [
    {
     "data": {
      "text/plain": [
       "(730, 30)"
      ]
     },
     "execution_count": 41,
     "metadata": {},
     "output_type": "execute_result"
    }
   ],
   "source": [
    "bike_df.shape"
   ]
  },
  {
   "cell_type": "markdown",
   "id": "4c8ecef9",
   "metadata": {},
   "source": [
    "##### Bike dataframe used for model building will have 730 rows and 30 columns"
   ]
  },
  {
   "cell_type": "markdown",
   "id": "6bc610e5",
   "metadata": {},
   "source": [
    "## Step 3: Model Building and Evaluation"
   ]
  },
  {
   "cell_type": "code",
   "execution_count": 42,
   "id": "5244b808",
   "metadata": {},
   "outputs": [],
   "source": [
    "# Getting the feature variables in X and dependent variable `cnt` in y\n",
    "X = bike_df.drop('cnt', axis = 1)\n",
    "y = bike_df['cnt']"
   ]
  },
  {
   "cell_type": "markdown",
   "id": "a2d67104",
   "metadata": {},
   "source": [
    "### Splitting the dataset into training and test set"
   ]
  },
  {
   "cell_type": "code",
   "execution_count": 43,
   "id": "86c13350",
   "metadata": {},
   "outputs": [],
   "source": [
    "# Splitting the data into a 70% training set and a 30% test set.\n",
    "X_train, X_test, y_train, y_test = train_test_split(X, y, test_size = 0.3, random_state = 100)"
   ]
  },
  {
   "cell_type": "code",
   "execution_count": 44,
   "id": "fe34e4f4",
   "metadata": {},
   "outputs": [
    {
     "name": "stdout",
     "output_type": "stream",
     "text": [
      "(511, 29)\n",
      "(511,)\n",
      "(219, 29)\n",
      "(219,)\n"
     ]
    }
   ],
   "source": [
    "# Checking shape and size for train and test set\n",
    "print(X_train.shape)\n",
    "print(y_train.shape)\n",
    "print(X_test.shape)\n",
    "print(y_test.shape)"
   ]
  },
  {
   "cell_type": "code",
   "execution_count": 45,
   "id": "dab75abb",
   "metadata": {},
   "outputs": [
    {
     "data": {
      "text/html": [
       "<div>\n",
       "<style scoped>\n",
       "    .dataframe tbody tr th:only-of-type {\n",
       "        vertical-align: middle;\n",
       "    }\n",
       "\n",
       "    .dataframe tbody tr th {\n",
       "        vertical-align: top;\n",
       "    }\n",
       "\n",
       "    .dataframe thead th {\n",
       "        text-align: right;\n",
       "    }\n",
       "</style>\n",
       "<table border=\"1\" class=\"dataframe\">\n",
       "  <thead>\n",
       "    <tr style=\"text-align: right;\">\n",
       "      <th></th>\n",
       "      <th>yr</th>\n",
       "      <th>holiday</th>\n",
       "      <th>workingday</th>\n",
       "      <th>temp</th>\n",
       "      <th>atemp</th>\n",
       "      <th>hum</th>\n",
       "      <th>windspeed</th>\n",
       "      <th>Spring</th>\n",
       "      <th>Summer</th>\n",
       "      <th>Winter</th>\n",
       "      <th>...</th>\n",
       "      <th>October</th>\n",
       "      <th>September</th>\n",
       "      <th>Monday</th>\n",
       "      <th>Saturday</th>\n",
       "      <th>Sunday</th>\n",
       "      <th>Thursday</th>\n",
       "      <th>Tuesday</th>\n",
       "      <th>Wednesday</th>\n",
       "      <th>Good</th>\n",
       "      <th>Moderate</th>\n",
       "    </tr>\n",
       "  </thead>\n",
       "  <tbody>\n",
       "    <tr>\n",
       "      <th>653</th>\n",
       "      <td>1</td>\n",
       "      <td>0</td>\n",
       "      <td>1</td>\n",
       "      <td>19.201653</td>\n",
       "      <td>23.0423</td>\n",
       "      <td>55.8333</td>\n",
       "      <td>12.208807</td>\n",
       "      <td>0</td>\n",
       "      <td>0</td>\n",
       "      <td>1</td>\n",
       "      <td>...</td>\n",
       "      <td>1</td>\n",
       "      <td>0</td>\n",
       "      <td>0</td>\n",
       "      <td>0</td>\n",
       "      <td>0</td>\n",
       "      <td>0</td>\n",
       "      <td>0</td>\n",
       "      <td>1</td>\n",
       "      <td>1</td>\n",
       "      <td>0</td>\n",
       "    </tr>\n",
       "    <tr>\n",
       "      <th>576</th>\n",
       "      <td>1</td>\n",
       "      <td>0</td>\n",
       "      <td>1</td>\n",
       "      <td>29.246653</td>\n",
       "      <td>33.1448</td>\n",
       "      <td>70.4167</td>\n",
       "      <td>11.083475</td>\n",
       "      <td>0</td>\n",
       "      <td>0</td>\n",
       "      <td>0</td>\n",
       "      <td>...</td>\n",
       "      <td>0</td>\n",
       "      <td>0</td>\n",
       "      <td>0</td>\n",
       "      <td>0</td>\n",
       "      <td>0</td>\n",
       "      <td>0</td>\n",
       "      <td>0</td>\n",
       "      <td>1</td>\n",
       "      <td>1</td>\n",
       "      <td>0</td>\n",
       "    </tr>\n",
       "    <tr>\n",
       "      <th>426</th>\n",
       "      <td>1</td>\n",
       "      <td>0</td>\n",
       "      <td>0</td>\n",
       "      <td>16.980847</td>\n",
       "      <td>20.6746</td>\n",
       "      <td>62.1250</td>\n",
       "      <td>10.792293</td>\n",
       "      <td>1</td>\n",
       "      <td>0</td>\n",
       "      <td>0</td>\n",
       "      <td>...</td>\n",
       "      <td>0</td>\n",
       "      <td>0</td>\n",
       "      <td>0</td>\n",
       "      <td>0</td>\n",
       "      <td>1</td>\n",
       "      <td>0</td>\n",
       "      <td>0</td>\n",
       "      <td>0</td>\n",
       "      <td>0</td>\n",
       "      <td>1</td>\n",
       "    </tr>\n",
       "    <tr>\n",
       "      <th>728</th>\n",
       "      <td>1</td>\n",
       "      <td>0</td>\n",
       "      <td>0</td>\n",
       "      <td>10.489153</td>\n",
       "      <td>11.5850</td>\n",
       "      <td>48.3333</td>\n",
       "      <td>23.500518</td>\n",
       "      <td>1</td>\n",
       "      <td>0</td>\n",
       "      <td>0</td>\n",
       "      <td>...</td>\n",
       "      <td>0</td>\n",
       "      <td>0</td>\n",
       "      <td>1</td>\n",
       "      <td>0</td>\n",
       "      <td>0</td>\n",
       "      <td>0</td>\n",
       "      <td>0</td>\n",
       "      <td>0</td>\n",
       "      <td>1</td>\n",
       "      <td>0</td>\n",
       "    </tr>\n",
       "    <tr>\n",
       "      <th>482</th>\n",
       "      <td>1</td>\n",
       "      <td>0</td>\n",
       "      <td>0</td>\n",
       "      <td>15.443347</td>\n",
       "      <td>18.8752</td>\n",
       "      <td>48.9583</td>\n",
       "      <td>8.708325</td>\n",
       "      <td>0</td>\n",
       "      <td>1</td>\n",
       "      <td>0</td>\n",
       "      <td>...</td>\n",
       "      <td>0</td>\n",
       "      <td>0</td>\n",
       "      <td>0</td>\n",
       "      <td>0</td>\n",
       "      <td>1</td>\n",
       "      <td>0</td>\n",
       "      <td>0</td>\n",
       "      <td>0</td>\n",
       "      <td>0</td>\n",
       "      <td>1</td>\n",
       "    </tr>\n",
       "  </tbody>\n",
       "</table>\n",
       "<p>5 rows × 29 columns</p>\n",
       "</div>"
      ],
      "text/plain": [
       "     yr  holiday  workingday       temp    atemp      hum  windspeed  Spring  \\\n",
       "653   1        0           1  19.201653  23.0423  55.8333  12.208807       0   \n",
       "576   1        0           1  29.246653  33.1448  70.4167  11.083475       0   \n",
       "426   1        0           0  16.980847  20.6746  62.1250  10.792293       1   \n",
       "728   1        0           0  10.489153  11.5850  48.3333  23.500518       1   \n",
       "482   1        0           0  15.443347  18.8752  48.9583   8.708325       0   \n",
       "\n",
       "     Summer  Winter  ...  October  September  Monday  Saturday  Sunday  \\\n",
       "653       0       1  ...        1          0       0         0       0   \n",
       "576       0       0  ...        0          0       0         0       0   \n",
       "426       0       0  ...        0          0       0         0       1   \n",
       "728       0       0  ...        0          0       1         0       0   \n",
       "482       1       0  ...        0          0       0         0       1   \n",
       "\n",
       "     Thursday  Tuesday  Wednesday  Good  Moderate  \n",
       "653         0        0          1     1         0  \n",
       "576         0        0          1     1         0  \n",
       "426         0        0          0     0         1  \n",
       "728         0        0          0     1         0  \n",
       "482         0        0          0     0         1  \n",
       "\n",
       "[5 rows x 29 columns]"
      ]
     },
     "execution_count": 45,
     "metadata": {},
     "output_type": "execute_result"
    }
   ],
   "source": [
    "# Inspect the head of the training set\n",
    "X_train.head()"
   ]
  },
  {
   "cell_type": "markdown",
   "id": "c4cb13ad",
   "metadata": {},
   "source": [
    "### Feature Scaling using StandardScaler\n",
    "\n",
    "StandardScaler is a preprocessing technique that transforms the features of a dataset to have a mean of 0 and a standard deviation of 1, ensuring consistent scales for machine learning algorithms sensitive to feature magnitudes."
   ]
  },
  {
   "cell_type": "code",
   "execution_count": 46,
   "id": "bfd99549",
   "metadata": {},
   "outputs": [],
   "source": [
    "# Use StandardScaler to scale values\n",
    "scaler = StandardScaler()\n",
    "\n",
    "# Fit and transform training set\n",
    "X_train_scaled = pd.DataFrame(scaler.fit_transform(X_train), columns = X_train.columns, index = X_train.index)\n",
    "\n",
    "# Only Transform Test set\n",
    "X_test_scaled = pd.DataFrame(scaler.transform(X_test), columns = X_test.columns, index = X_test.index)"
   ]
  },
  {
   "cell_type": "code",
   "execution_count": 47,
   "id": "5c5f8bd0",
   "metadata": {},
   "outputs": [
    {
     "data": {
      "text/html": [
       "<div>\n",
       "<style scoped>\n",
       "    .dataframe tbody tr th:only-of-type {\n",
       "        vertical-align: middle;\n",
       "    }\n",
       "\n",
       "    .dataframe tbody tr th {\n",
       "        vertical-align: top;\n",
       "    }\n",
       "\n",
       "    .dataframe thead th {\n",
       "        text-align: right;\n",
       "    }\n",
       "</style>\n",
       "<table border=\"1\" class=\"dataframe\">\n",
       "  <thead>\n",
       "    <tr style=\"text-align: right;\">\n",
       "      <th></th>\n",
       "      <th>yr</th>\n",
       "      <th>holiday</th>\n",
       "      <th>workingday</th>\n",
       "      <th>temp</th>\n",
       "      <th>atemp</th>\n",
       "      <th>hum</th>\n",
       "      <th>windspeed</th>\n",
       "      <th>Spring</th>\n",
       "      <th>Summer</th>\n",
       "      <th>Winter</th>\n",
       "      <th>...</th>\n",
       "      <th>October</th>\n",
       "      <th>September</th>\n",
       "      <th>Monday</th>\n",
       "      <th>Saturday</th>\n",
       "      <th>Sunday</th>\n",
       "      <th>Thursday</th>\n",
       "      <th>Tuesday</th>\n",
       "      <th>Wednesday</th>\n",
       "      <th>Good</th>\n",
       "      <th>Moderate</th>\n",
       "    </tr>\n",
       "  </thead>\n",
       "  <tbody>\n",
       "    <tr>\n",
       "      <th>653</th>\n",
       "      <td>0.98254</td>\n",
       "      <td>-0.161569</td>\n",
       "      <td>0.690564</td>\n",
       "      <td>-0.121991</td>\n",
       "      <td>-0.056605</td>\n",
       "      <td>-0.514975</td>\n",
       "      <td>-0.118309</td>\n",
       "      <td>-0.566051</td>\n",
       "      <td>-0.572078</td>\n",
       "      <td>1.738857</td>\n",
       "      <td>...</td>\n",
       "      <td>3.257858</td>\n",
       "      <td>-0.295354</td>\n",
       "      <td>-0.408248</td>\n",
       "      <td>-0.381759</td>\n",
       "      <td>-0.427633</td>\n",
       "      <td>-0.434019</td>\n",
       "      <td>-0.421212</td>\n",
       "      <td>2.552392</td>\n",
       "      <td>0.772577</td>\n",
       "      <td>-0.724826</td>\n",
       "    </tr>\n",
       "    <tr>\n",
       "      <th>576</th>\n",
       "      <td>0.98254</td>\n",
       "      <td>-0.161569</td>\n",
       "      <td>0.690564</td>\n",
       "      <td>1.232298</td>\n",
       "      <td>1.194457</td>\n",
       "      <td>0.517177</td>\n",
       "      <td>-0.331370</td>\n",
       "      <td>-0.566051</td>\n",
       "      <td>-0.572078</td>\n",
       "      <td>-0.575091</td>\n",
       "      <td>...</td>\n",
       "      <td>-0.306950</td>\n",
       "      <td>-0.295354</td>\n",
       "      <td>-0.408248</td>\n",
       "      <td>-0.381759</td>\n",
       "      <td>-0.427633</td>\n",
       "      <td>-0.434019</td>\n",
       "      <td>-0.421212</td>\n",
       "      <td>2.552392</td>\n",
       "      <td>0.772577</td>\n",
       "      <td>-0.724826</td>\n",
       "    </tr>\n",
       "    <tr>\n",
       "      <th>426</th>\n",
       "      <td>0.98254</td>\n",
       "      <td>-0.161569</td>\n",
       "      <td>-1.448092</td>\n",
       "      <td>-0.421405</td>\n",
       "      <td>-0.349813</td>\n",
       "      <td>-0.069675</td>\n",
       "      <td>-0.386500</td>\n",
       "      <td>1.766626</td>\n",
       "      <td>-0.572078</td>\n",
       "      <td>-0.575091</td>\n",
       "      <td>...</td>\n",
       "      <td>-0.306950</td>\n",
       "      <td>-0.295354</td>\n",
       "      <td>-0.408248</td>\n",
       "      <td>-0.381759</td>\n",
       "      <td>2.338451</td>\n",
       "      <td>-0.434019</td>\n",
       "      <td>-0.421212</td>\n",
       "      <td>-0.391789</td>\n",
       "      <td>-1.294370</td>\n",
       "      <td>1.379641</td>\n",
       "    </tr>\n",
       "    <tr>\n",
       "      <th>728</th>\n",
       "      <td>0.98254</td>\n",
       "      <td>-0.161569</td>\n",
       "      <td>-1.448092</td>\n",
       "      <td>-1.296629</td>\n",
       "      <td>-1.475441</td>\n",
       "      <td>-1.045794</td>\n",
       "      <td>2.019569</td>\n",
       "      <td>1.766626</td>\n",
       "      <td>-0.572078</td>\n",
       "      <td>-0.575091</td>\n",
       "      <td>...</td>\n",
       "      <td>-0.306950</td>\n",
       "      <td>-0.295354</td>\n",
       "      <td>2.449490</td>\n",
       "      <td>-0.381759</td>\n",
       "      <td>-0.427633</td>\n",
       "      <td>-0.434019</td>\n",
       "      <td>-0.421212</td>\n",
       "      <td>-0.391789</td>\n",
       "      <td>0.772577</td>\n",
       "      <td>-0.724826</td>\n",
       "    </tr>\n",
       "    <tr>\n",
       "      <th>482</th>\n",
       "      <td>0.98254</td>\n",
       "      <td>-0.161569</td>\n",
       "      <td>-1.448092</td>\n",
       "      <td>-0.628694</td>\n",
       "      <td>-0.572645</td>\n",
       "      <td>-1.001559</td>\n",
       "      <td>-0.781062</td>\n",
       "      <td>-0.566051</td>\n",
       "      <td>1.748015</td>\n",
       "      <td>-0.575091</td>\n",
       "      <td>...</td>\n",
       "      <td>-0.306950</td>\n",
       "      <td>-0.295354</td>\n",
       "      <td>-0.408248</td>\n",
       "      <td>-0.381759</td>\n",
       "      <td>2.338451</td>\n",
       "      <td>-0.434019</td>\n",
       "      <td>-0.421212</td>\n",
       "      <td>-0.391789</td>\n",
       "      <td>-1.294370</td>\n",
       "      <td>1.379641</td>\n",
       "    </tr>\n",
       "  </tbody>\n",
       "</table>\n",
       "<p>5 rows × 29 columns</p>\n",
       "</div>"
      ],
      "text/plain": [
       "          yr   holiday  workingday      temp     atemp       hum  windspeed  \\\n",
       "653  0.98254 -0.161569    0.690564 -0.121991 -0.056605 -0.514975  -0.118309   \n",
       "576  0.98254 -0.161569    0.690564  1.232298  1.194457  0.517177  -0.331370   \n",
       "426  0.98254 -0.161569   -1.448092 -0.421405 -0.349813 -0.069675  -0.386500   \n",
       "728  0.98254 -0.161569   -1.448092 -1.296629 -1.475441 -1.045794   2.019569   \n",
       "482  0.98254 -0.161569   -1.448092 -0.628694 -0.572645 -1.001559  -0.781062   \n",
       "\n",
       "       Spring    Summer    Winter  ...   October  September    Monday  \\\n",
       "653 -0.566051 -0.572078  1.738857  ...  3.257858  -0.295354 -0.408248   \n",
       "576 -0.566051 -0.572078 -0.575091  ... -0.306950  -0.295354 -0.408248   \n",
       "426  1.766626 -0.572078 -0.575091  ... -0.306950  -0.295354 -0.408248   \n",
       "728  1.766626 -0.572078 -0.575091  ... -0.306950  -0.295354  2.449490   \n",
       "482 -0.566051  1.748015 -0.575091  ... -0.306950  -0.295354 -0.408248   \n",
       "\n",
       "     Saturday    Sunday  Thursday   Tuesday  Wednesday      Good  Moderate  \n",
       "653 -0.381759 -0.427633 -0.434019 -0.421212   2.552392  0.772577 -0.724826  \n",
       "576 -0.381759 -0.427633 -0.434019 -0.421212   2.552392  0.772577 -0.724826  \n",
       "426 -0.381759  2.338451 -0.434019 -0.421212  -0.391789 -1.294370  1.379641  \n",
       "728 -0.381759 -0.427633 -0.434019 -0.421212  -0.391789  0.772577 -0.724826  \n",
       "482 -0.381759  2.338451 -0.434019 -0.421212  -0.391789 -1.294370  1.379641  \n",
       "\n",
       "[5 rows x 29 columns]"
      ]
     },
     "execution_count": 47,
     "metadata": {},
     "output_type": "execute_result"
    }
   ],
   "source": [
    "# Inspect the training set after scaling\n",
    "X_train_scaled.head()"
   ]
  },
  {
   "cell_type": "markdown",
   "id": "7085460e",
   "metadata": {},
   "source": [
    "### Selecting Features using Recursive Feature Elimination (RFE) approach\n",
    "\n",
    "RFE, or Recursive Feature Elimination, is a feature selection technique in machine learning. It works by recursively removing the least important features based on model performance, helping to identify the most relevant features for optimal model accuracy and efficiency."
   ]
  },
  {
   "cell_type": "markdown",
   "id": "307209ed",
   "metadata": {},
   "source": [
    "*****Selecting top 15 features generated using RFE*****"
   ]
  },
  {
   "cell_type": "code",
   "execution_count": 49,
   "id": "7c23e783",
   "metadata": {},
   "outputs": [],
   "source": [
    "# Create and train the model with RFE\n",
    "lm = LinearRegression()\n",
    "\n",
    "rfe = RFE(lm, n_features_to_select = 15)\n",
    "\n",
    "rfe = rfe.fit(X_train_scaled, y_train)"
   ]
  },
  {
   "cell_type": "code",
   "execution_count": 50,
   "id": "8ded1844",
   "metadata": {},
   "outputs": [
    {
     "data": {
      "text/plain": [
       "array([ True,  True,  True,  True, False,  True,  True,  True,  True,\n",
       "        True, False, False, False, False,  True, False, False, False,\n",
       "       False, False,  True,  True, False,  True, False, False, False,\n",
       "        True,  True])"
      ]
     },
     "execution_count": 50,
     "metadata": {},
     "output_type": "execute_result"
    }
   ],
   "source": [
    "rfe.support_"
   ]
  },
  {
   "cell_type": "code",
   "execution_count": 51,
   "id": "51410df5",
   "metadata": {},
   "outputs": [
    {
     "data": {
      "text/plain": [
       "[('yr', True, 1),\n",
       " ('holiday', True, 1),\n",
       " ('workingday', True, 1),\n",
       " ('temp', True, 1),\n",
       " ('atemp', False, 5),\n",
       " ('hum', True, 1),\n",
       " ('windspeed', True, 1),\n",
       " ('Spring', True, 1),\n",
       " ('Summer', True, 1),\n",
       " ('Winter', True, 1),\n",
       " ('August', False, 7),\n",
       " ('December', False, 13),\n",
       " ('February', False, 11),\n",
       " ('January', False, 6),\n",
       " ('July', True, 1),\n",
       " ('June', False, 10),\n",
       " ('March', False, 2),\n",
       " ('May', False, 4),\n",
       " ('November', False, 3),\n",
       " ('October', False, 15),\n",
       " ('September', True, 1),\n",
       " ('Monday', True, 1),\n",
       " ('Saturday', False, 8),\n",
       " ('Sunday', True, 1),\n",
       " ('Thursday', False, 9),\n",
       " ('Tuesday', False, 12),\n",
       " ('Wednesday', False, 14),\n",
       " ('Good', True, 1),\n",
       " ('Moderate', True, 1)]"
      ]
     },
     "execution_count": 51,
     "metadata": {},
     "output_type": "execute_result"
    }
   ],
   "source": [
    "# List of feature variables and their respective selection status and ranks\n",
    "list(zip(X_train_scaled.columns, rfe.support_, rfe.ranking_))"
   ]
  },
  {
   "cell_type": "code",
   "execution_count": 52,
   "id": "15c64a32",
   "metadata": {},
   "outputs": [],
   "source": [
    "# Get the columns which are selected using RFE approach\n",
    "selected_features = X_train_scaled.columns[rfe.support_]"
   ]
  },
  {
   "cell_type": "code",
   "execution_count": 53,
   "id": "e0680069",
   "metadata": {},
   "outputs": [
    {
     "data": {
      "text/plain": [
       "Index(['yr', 'holiday', 'workingday', 'temp', 'hum', 'windspeed', 'Spring',\n",
       "       'Summer', 'Winter', 'July', 'September', 'Monday', 'Sunday', 'Good',\n",
       "       'Moderate'],\n",
       "      dtype='object')"
      ]
     },
     "execution_count": 53,
     "metadata": {},
     "output_type": "execute_result"
    }
   ],
   "source": [
    "# Verifying column names which are selected\n",
    "selected_features"
   ]
  },
  {
   "cell_type": "code",
   "execution_count": 54,
   "id": "054be6d6",
   "metadata": {},
   "outputs": [],
   "source": [
    "# Get the columns which are rejected using RFE approach\n",
    "rejected_features = X_train_scaled.columns[~rfe.support_]"
   ]
  },
  {
   "cell_type": "code",
   "execution_count": 55,
   "id": "869b9183",
   "metadata": {},
   "outputs": [
    {
     "data": {
      "text/plain": [
       "Index(['atemp', 'August', 'December', 'February', 'January', 'June', 'March',\n",
       "       'May', 'November', 'October', 'Saturday', 'Thursday', 'Tuesday',\n",
       "       'Wednesday'],\n",
       "      dtype='object')"
      ]
     },
     "execution_count": 55,
     "metadata": {},
     "output_type": "execute_result"
    }
   ],
   "source": [
    "# Verifying column names which are rejected\n",
    "rejected_features"
   ]
  },
  {
   "cell_type": "markdown",
   "id": "48435912",
   "metadata": {},
   "source": [
    "### Common Utility Functions\n",
    "\n",
    "Here are three Python utility methods designed for reuse in modeling, VIF calculation, and adjusted R2 score calculation."
   ]
  },
  {
   "cell_type": "code",
   "execution_count": 56,
   "id": "7efe88f7",
   "metadata": {},
   "outputs": [],
   "source": [
    "def adjusted_r2_score(y_true, y_pred, n_features):\n",
    "    \"\"\"\n",
    "    Calculate the adjusted R-squared (R2_adj) score.\n",
    "\n",
    "    The adjusted R2 score is a modified version of the traditional R-squared that takes into account the number of\n",
    "    predictors (independent variables) in a regression model. It penalizes the inclusion of unnecessary predictors\n",
    "    that do not significantly contribute to explaining the variance.\n",
    "\n",
    "    Parameters:\n",
    "    - y_true (array-like): True target values.\n",
    "    - y_pred (array-like): Predicted values.\n",
    "    - n_features (int): Number of features (independent variables) in the model.\n",
    "\n",
    "    Returns:\n",
    "    - float: Adjusted R-squared score.\n",
    "    \"\"\"\n",
    "    r2 = r2_score(y_true, y_pred)\n",
    "    n = len(y_true)\n",
    "    adjusted_r2 = 1 - ((1 - r2) * (n - 1) / (n - n_features - 1))\n",
    "    return adjusted_r2"
   ]
  },
  {
   "cell_type": "code",
   "execution_count": 57,
   "id": "d3f18404",
   "metadata": {},
   "outputs": [],
   "source": [
    "def calculate_VIF(X_train):\n",
    "    \"\"\"\n",
    "    Calculate Variance Inflation Factor (VIF) for features in the training set.\n",
    "\n",
    "    VIF measures the extent to which the variance of an independent variable is inflated by the existence of other \n",
    "    independent variables in the model. High VIF values indicate strong correlation between variables.\n",
    "\n",
    "    Parameters:\n",
    "    - X_train (pd.DataFrame): Input features in the training set.\n",
    "\n",
    "    Returns:\n",
    "    - pd.DataFrame: DataFrame containing Features and their corresponding VIF values.\n",
    "    \"\"\"\n",
    "    vif = pd.DataFrame()\n",
    "    vif[\"Features\"] = X_train.columns\n",
    "    vif[\"VIF\"] = [variance_inflation_factor(X_train.values, i) for i in range(len(X_train.columns))]\n",
    "    \n",
    "    vif['VIF'] = round(vif['VIF'], 2)\n",
    "    return vif.sort_values(by = 'VIF', ascending = False)"
   ]
  },
  {
   "cell_type": "code",
   "execution_count": 58,
   "id": "8a036d7b",
   "metadata": {},
   "outputs": [],
   "source": [
    "def generate_model_with_summary(X_train, y_train):\n",
    "    \"\"\"\n",
    "    Generate and fit an Ordinary Least Squares (OLS) model using statsmodels,\n",
    "    print the model summary, and return a dictionary with the fitted model and\n",
    "    the features with an added constant term.\n",
    "\n",
    "    Parameters:\n",
    "    - X_train (DataFrame): Features for training.\n",
    "    - y_train (Series): Target variable for training.\n",
    "\n",
    "    Returns:\n",
    "    dict: A dictionary containing the fitted OLS model ('model') and the features\n",
    "          with added constant term ('X_train_sm').\n",
    "    \"\"\"\n",
    "    X_train_sm = sm.add_constant(X_train)\n",
    "    lm = sm.OLS(y_train, X_train_sm).fit()\n",
    "    print(lm.summary())\n",
    "    return { 'model' : lm, 'X_train_sm' : X_train_sm }"
   ]
  },
  {
   "cell_type": "markdown",
   "id": "584154bc",
   "metadata": {},
   "source": [
    "### Manual Feature Elimination using `statsmodels` and `VIF`"
   ]
  },
  {
   "cell_type": "markdown",
   "id": "3526fe16",
   "metadata": {},
   "source": [
    "Steps to be taken while performing Manual Feature Elimination:\n",
    "\n",
    "- **Multicollinearity:** Address high correlation between features.\n",
    "- **Overfitting:** Prevent the model from fitting noise in the data.\n",
    "- **Interpretability:** Simplify the model for better understanding.\n",
    "- **Model Performance:** Improve computational efficiency and generalization.\n",
    "- **Data Quality:** Eliminate irrelevant or redundant features for cleaner data."
   ]
  },
  {
   "cell_type": "markdown",
   "id": "796554c0",
   "metadata": {},
   "source": [
    "###### Manual feature elimination requires identifying features with p-values exceeding 0.05, rendering their coefficients statistically insignificant, and having VIF values surpassing 5."
   ]
  },
  {
   "cell_type": "markdown",
   "id": "2db53166",
   "metadata": {},
   "source": [
    "### Model 1"
   ]
  },
  {
   "cell_type": "markdown",
   "id": "6fe62a77",
   "metadata": {},
   "source": [
    "Creating our first model using the selected features from RFE approach"
   ]
  },
  {
   "cell_type": "code",
   "execution_count": 59,
   "id": "1cdc2742",
   "metadata": {},
   "outputs": [],
   "source": [
    "X_train_rfe_1 = X_train_scaled[selected_features]"
   ]
  },
  {
   "cell_type": "code",
   "execution_count": 60,
   "id": "69afa20b",
   "metadata": {},
   "outputs": [
    {
     "name": "stdout",
     "output_type": "stream",
     "text": [
      "                            OLS Regression Results                            \n",
      "==============================================================================\n",
      "Dep. Variable:                    cnt   R-squared:                       0.845\n",
      "Model:                            OLS   Adj. R-squared:                  0.841\n",
      "Method:                 Least Squares   F-statistic:                     193.8\n",
      "Date:                Wed, 22 Nov 2023   Prob (F-statistic):          1.03e-190\n",
      "Time:                        13:35:39   Log-Likelihood:                -4119.6\n",
      "No. Observations:                 511   AIC:                             8269.\n",
      "Df Residuals:                     496   BIC:                             8333.\n",
      "Df Model:                          14                                         \n",
      "Covariance Type:            nonrobust                                         \n",
      "==============================================================================\n",
      "                 coef    std err          t      P>|t|      [0.025      0.975]\n",
      "------------------------------------------------------------------------------\n",
      "const       4491.3033     34.450    130.370      0.000    4423.617    4558.990\n",
      "yr          1001.0190     35.054     28.556      0.000     932.146    1069.892\n",
      "holiday    -3.923e+15   2.57e+15     -1.527      0.127   -8.97e+15    1.13e+15\n",
      "workingday -1.165e+16   7.63e+15     -1.527      0.127   -2.66e+16    3.34e+15\n",
      "temp        1029.9914     65.610     15.699      0.000     901.084    1158.899\n",
      "hum         -206.5593     47.582     -4.341      0.000    -300.047    -113.071\n",
      "windspeed   -261.4022     37.824     -6.911      0.000    -335.718    -187.086\n",
      "Spring      -206.5960     77.202     -2.676      0.008    -358.279     -54.913\n",
      "Summer       197.4342     55.870      3.534      0.000      87.664     307.204\n",
      "Winter       376.7363     64.413      5.849      0.000     250.181     503.292\n",
      "July        -126.6695     42.019     -3.015      0.003    -209.227     -44.112\n",
      "September    194.5226     39.241      4.957      0.000     117.424     271.621\n",
      "Monday     -8.719e+15   5.71e+15     -1.527      0.127   -1.99e+16     2.5e+15\n",
      "Sunday     -9.008e+15    5.9e+15     -1.527      0.127   -2.06e+16    2.59e+15\n",
      "Good        1033.7751    110.373      9.366      0.000     816.919    1250.631\n",
      "Moderate     778.0023    102.646      7.579      0.000     576.328     979.677\n",
      "==============================================================================\n",
      "Omnibus:                       70.964   Durbin-Watson:                   2.049\n",
      "Prob(Omnibus):                  0.000   Jarque-Bera (JB):              161.997\n",
      "Skew:                          -0.741   Prob(JB):                     6.65e-36\n",
      "Kurtosis:                       5.326   Cond. No.                     5.22e+14\n",
      "==============================================================================\n",
      "\n",
      "Notes:\n",
      "[1] Standard Errors assume that the covariance matrix of the errors is correctly specified.\n",
      "[2] The smallest eigenvalue is 4.59e-27. This might indicate that there are\n",
      "strong multicollinearity problems or that the design matrix is singular.\n"
     ]
    },
    {
     "data": {
      "text/html": [
       "<div>\n",
       "<style scoped>\n",
       "    .dataframe tbody tr th:only-of-type {\n",
       "        vertical-align: middle;\n",
       "    }\n",
       "\n",
       "    .dataframe tbody tr th {\n",
       "        vertical-align: top;\n",
       "    }\n",
       "\n",
       "    .dataframe thead th {\n",
       "        text-align: right;\n",
       "    }\n",
       "</style>\n",
       "<table border=\"1\" class=\"dataframe\">\n",
       "  <thead>\n",
       "    <tr style=\"text-align: right;\">\n",
       "      <th></th>\n",
       "      <th>Features</th>\n",
       "      <th>VIF</th>\n",
       "    </tr>\n",
       "  </thead>\n",
       "  <tbody>\n",
       "    <tr>\n",
       "      <th>1</th>\n",
       "      <td>holiday</td>\n",
       "      <td>inf</td>\n",
       "    </tr>\n",
       "    <tr>\n",
       "      <th>2</th>\n",
       "      <td>workingday</td>\n",
       "      <td>inf</td>\n",
       "    </tr>\n",
       "    <tr>\n",
       "      <th>11</th>\n",
       "      <td>Monday</td>\n",
       "      <td>inf</td>\n",
       "    </tr>\n",
       "    <tr>\n",
       "      <th>12</th>\n",
       "      <td>Sunday</td>\n",
       "      <td>inf</td>\n",
       "    </tr>\n",
       "    <tr>\n",
       "      <th>13</th>\n",
       "      <td>Good</td>\n",
       "      <td>10.26</td>\n",
       "    </tr>\n",
       "    <tr>\n",
       "      <th>14</th>\n",
       "      <td>Moderate</td>\n",
       "      <td>8.88</td>\n",
       "    </tr>\n",
       "    <tr>\n",
       "      <th>6</th>\n",
       "      <td>Spring</td>\n",
       "      <td>5.02</td>\n",
       "    </tr>\n",
       "    <tr>\n",
       "      <th>3</th>\n",
       "      <td>temp</td>\n",
       "      <td>3.62</td>\n",
       "    </tr>\n",
       "    <tr>\n",
       "      <th>8</th>\n",
       "      <td>Winter</td>\n",
       "      <td>3.50</td>\n",
       "    </tr>\n",
       "    <tr>\n",
       "      <th>7</th>\n",
       "      <td>Summer</td>\n",
       "      <td>2.62</td>\n",
       "    </tr>\n",
       "    <tr>\n",
       "      <th>4</th>\n",
       "      <td>hum</td>\n",
       "      <td>1.91</td>\n",
       "    </tr>\n",
       "    <tr>\n",
       "      <th>9</th>\n",
       "      <td>July</td>\n",
       "      <td>1.49</td>\n",
       "    </tr>\n",
       "    <tr>\n",
       "      <th>10</th>\n",
       "      <td>September</td>\n",
       "      <td>1.30</td>\n",
       "    </tr>\n",
       "    <tr>\n",
       "      <th>5</th>\n",
       "      <td>windspeed</td>\n",
       "      <td>1.20</td>\n",
       "    </tr>\n",
       "    <tr>\n",
       "      <th>0</th>\n",
       "      <td>yr</td>\n",
       "      <td>1.03</td>\n",
       "    </tr>\n",
       "  </tbody>\n",
       "</table>\n",
       "</div>"
      ],
      "text/plain": [
       "      Features    VIF\n",
       "1      holiday    inf\n",
       "2   workingday    inf\n",
       "11      Monday    inf\n",
       "12      Sunday    inf\n",
       "13        Good  10.26\n",
       "14    Moderate   8.88\n",
       "6       Spring   5.02\n",
       "3         temp   3.62\n",
       "8       Winter   3.50\n",
       "7       Summer   2.62\n",
       "4          hum   1.91\n",
       "9         July   1.49\n",
       "10   September   1.30\n",
       "5    windspeed   1.20\n",
       "0           yr   1.03"
      ]
     },
     "execution_count": 60,
     "metadata": {},
     "output_type": "execute_result"
    }
   ],
   "source": [
    "generate_model_with_summary(X_train_rfe_1, y_train)\n",
    "calculate_VIF(X_train_rfe_1)"
   ]
  },
  {
   "cell_type": "markdown",
   "id": "dc056784",
   "metadata": {},
   "source": [
    "### Model 2\n",
    "\n",
    "- ***Excluding `holiday` due to its elevated p-value of 0.127 and a high VIF approaching `inf`, indicating potential multicollinearity.***"
   ]
  },
  {
   "cell_type": "code",
   "execution_count": 61,
   "id": "6c2ab1d2",
   "metadata": {},
   "outputs": [],
   "source": [
    "X_train_rfe_2 = X_train_rfe_1.drop(['holiday'], axis = 1)"
   ]
  },
  {
   "cell_type": "code",
   "execution_count": 62,
   "id": "cb674dd7",
   "metadata": {},
   "outputs": [
    {
     "name": "stdout",
     "output_type": "stream",
     "text": [
      "                            OLS Regression Results                            \n",
      "==============================================================================\n",
      "Dep. Variable:                    cnt   R-squared:                       0.847\n",
      "Model:                            OLS   Adj. R-squared:                  0.843\n",
      "Method:                 Least Squares   F-statistic:                     196.2\n",
      "Date:                Wed, 22 Nov 2023   Prob (F-statistic):          7.31e-192\n",
      "Time:                        13:35:39   Log-Likelihood:                -4116.8\n",
      "No. Observations:                 511   AIC:                             8264.\n",
      "Df Residuals:                     496   BIC:                             8327.\n",
      "Df Model:                          14                                         \n",
      "Covariance Type:            nonrobust                                         \n",
      "==============================================================================\n",
      "                 coef    std err          t      P>|t|      [0.025      0.975]\n",
      "------------------------------------------------------------------------------\n",
      "const       4491.3033     34.266    131.072      0.000    4423.979    4558.628\n",
      "yr          1000.3565     34.864     28.693      0.000     931.857    1068.856\n",
      "workingday   417.4134    103.250      4.043      0.000     214.551     620.275\n",
      "temp        1035.6521     65.155     15.895      0.000     907.639    1163.665\n",
      "hum         -204.9927     47.317     -4.332      0.000    -297.959    -112.027\n",
      "windspeed   -266.5085     37.475     -7.112      0.000    -340.137    -192.880\n",
      "Spring      -205.6084     76.786     -2.678      0.008    -356.474     -54.743\n",
      "Summer       201.7156     55.501      3.634      0.000      92.670     310.761\n",
      "Winter       377.8685     64.064      5.898      0.000     251.998     503.739\n",
      "July        -126.5132     41.794     -3.027      0.003    -208.629     -44.398\n",
      "September    193.1476     39.020      4.950      0.000     116.482     269.813\n",
      "Monday       180.0885     82.092      2.194      0.029      18.798     341.379\n",
      "Sunday       352.9089     84.358      4.183      0.000     187.165     518.653\n",
      "Good        1032.1216    109.777      9.402      0.000     816.436    1247.807\n",
      "Moderate     779.7688    102.090      7.638      0.000     579.186     980.351\n",
      "==============================================================================\n",
      "Omnibus:                       64.763   Durbin-Watson:                   2.065\n",
      "Prob(Omnibus):                  0.000   Jarque-Bera (JB):              156.557\n",
      "Skew:                          -0.662   Prob(JB):                     1.01e-34\n",
      "Kurtosis:                       5.367   Cond. No.                         6.96\n",
      "==============================================================================\n",
      "\n",
      "Notes:\n",
      "[1] Standard Errors assume that the covariance matrix of the errors is correctly specified.\n"
     ]
    },
    {
     "data": {
      "text/html": [
       "<div>\n",
       "<style scoped>\n",
       "    .dataframe tbody tr th:only-of-type {\n",
       "        vertical-align: middle;\n",
       "    }\n",
       "\n",
       "    .dataframe tbody tr th {\n",
       "        vertical-align: top;\n",
       "    }\n",
       "\n",
       "    .dataframe thead th {\n",
       "        text-align: right;\n",
       "    }\n",
       "</style>\n",
       "<table border=\"1\" class=\"dataframe\">\n",
       "  <thead>\n",
       "    <tr style=\"text-align: right;\">\n",
       "      <th></th>\n",
       "      <th>Features</th>\n",
       "      <th>VIF</th>\n",
       "    </tr>\n",
       "  </thead>\n",
       "  <tbody>\n",
       "    <tr>\n",
       "      <th>12</th>\n",
       "      <td>Good</td>\n",
       "      <td>10.26</td>\n",
       "    </tr>\n",
       "    <tr>\n",
       "      <th>1</th>\n",
       "      <td>workingday</td>\n",
       "      <td>9.08</td>\n",
       "    </tr>\n",
       "    <tr>\n",
       "      <th>13</th>\n",
       "      <td>Moderate</td>\n",
       "      <td>8.88</td>\n",
       "    </tr>\n",
       "    <tr>\n",
       "      <th>11</th>\n",
       "      <td>Sunday</td>\n",
       "      <td>6.06</td>\n",
       "    </tr>\n",
       "    <tr>\n",
       "      <th>10</th>\n",
       "      <td>Monday</td>\n",
       "      <td>5.74</td>\n",
       "    </tr>\n",
       "    <tr>\n",
       "      <th>5</th>\n",
       "      <td>Spring</td>\n",
       "      <td>5.02</td>\n",
       "    </tr>\n",
       "    <tr>\n",
       "      <th>2</th>\n",
       "      <td>temp</td>\n",
       "      <td>3.62</td>\n",
       "    </tr>\n",
       "    <tr>\n",
       "      <th>7</th>\n",
       "      <td>Winter</td>\n",
       "      <td>3.50</td>\n",
       "    </tr>\n",
       "    <tr>\n",
       "      <th>6</th>\n",
       "      <td>Summer</td>\n",
       "      <td>2.62</td>\n",
       "    </tr>\n",
       "    <tr>\n",
       "      <th>3</th>\n",
       "      <td>hum</td>\n",
       "      <td>1.91</td>\n",
       "    </tr>\n",
       "    <tr>\n",
       "      <th>8</th>\n",
       "      <td>July</td>\n",
       "      <td>1.49</td>\n",
       "    </tr>\n",
       "    <tr>\n",
       "      <th>9</th>\n",
       "      <td>September</td>\n",
       "      <td>1.30</td>\n",
       "    </tr>\n",
       "    <tr>\n",
       "      <th>4</th>\n",
       "      <td>windspeed</td>\n",
       "      <td>1.20</td>\n",
       "    </tr>\n",
       "    <tr>\n",
       "      <th>0</th>\n",
       "      <td>yr</td>\n",
       "      <td>1.04</td>\n",
       "    </tr>\n",
       "  </tbody>\n",
       "</table>\n",
       "</div>"
      ],
      "text/plain": [
       "      Features    VIF\n",
       "12        Good  10.26\n",
       "1   workingday   9.08\n",
       "13    Moderate   8.88\n",
       "11      Sunday   6.06\n",
       "10      Monday   5.74\n",
       "5       Spring   5.02\n",
       "2         temp   3.62\n",
       "7       Winter   3.50\n",
       "6       Summer   2.62\n",
       "3          hum   1.91\n",
       "8         July   1.49\n",
       "9    September   1.30\n",
       "4    windspeed   1.20\n",
       "0           yr   1.04"
      ]
     },
     "execution_count": 62,
     "metadata": {},
     "output_type": "execute_result"
    }
   ],
   "source": [
    "generate_model_with_summary(X_train_rfe_2, y_train)\n",
    "calculate_VIF(X_train_rfe_2)"
   ]
  },
  {
   "cell_type": "markdown",
   "id": "f4d4f201",
   "metadata": {},
   "source": [
    "### Model 3\n",
    "\n",
    "- ***Removing `Good` because it has very high VIF of 10.26***"
   ]
  },
  {
   "cell_type": "code",
   "execution_count": 63,
   "id": "93e8a291",
   "metadata": {},
   "outputs": [],
   "source": [
    "X_train_rfe_3 = X_train_rfe_2.drop(['Good'], axis = 1)"
   ]
  },
  {
   "cell_type": "code",
   "execution_count": 64,
   "id": "1925ba55",
   "metadata": {},
   "outputs": [
    {
     "name": "stdout",
     "output_type": "stream",
     "text": [
      "                            OLS Regression Results                            \n",
      "==============================================================================\n",
      "Dep. Variable:                    cnt   R-squared:                       0.820\n",
      "Model:                            OLS   Adj. R-squared:                  0.815\n",
      "Method:                 Least Squares   F-statistic:                     174.0\n",
      "Date:                Wed, 22 Nov 2023   Prob (F-statistic):          2.06e-175\n",
      "Time:                        13:35:39   Log-Likelihood:                -4158.7\n",
      "No. Observations:                 511   AIC:                             8345.\n",
      "Df Residuals:                     497   BIC:                             8405.\n",
      "Df Model:                          13                                         \n",
      "Covariance Type:            nonrobust                                         \n",
      "==============================================================================\n",
      "                 coef    std err          t      P>|t|      [0.025      0.975]\n",
      "------------------------------------------------------------------------------\n",
      "const       4491.3033     37.157    120.874      0.000    4418.299    4564.307\n",
      "yr          1002.7926     37.804     26.526      0.000     928.516    1077.069\n",
      "workingday   371.9177    111.838      3.325      0.001     152.184     591.652\n",
      "temp        1114.4367     70.065     15.906      0.000     976.777    1252.096\n",
      "hum         -381.1576     47.115     -8.090      0.000    -473.726    -288.589\n",
      "windspeed   -338.2571     39.785     -8.502      0.000    -416.424    -260.090\n",
      "Spring      -154.6006     83.056     -1.861      0.063    -317.785       8.584\n",
      "Summer       228.8996     60.101      3.809      0.000     110.816     346.983\n",
      "Winter       397.3879     69.432      5.723      0.000     260.971     533.805\n",
      "July        -141.4935     45.287     -3.124      0.002    -230.472     -52.515\n",
      "September    189.3585     42.310      4.475      0.000     106.230     272.487\n",
      "Monday       169.4497     89.009      1.904      0.058      -5.431     344.330\n",
      "Sunday       312.6165     91.357      3.422      0.001     133.123     492.110\n",
      "Moderate    -101.1384     43.965     -2.300      0.022    -187.519     -14.758\n",
      "==============================================================================\n",
      "Omnibus:                      102.004   Durbin-Watson:                   2.042\n",
      "Prob(Omnibus):                  0.000   Jarque-Bera (JB):              275.409\n",
      "Skew:                          -0.976   Prob(JB):                     1.57e-60\n",
      "Kurtosis:                       6.020   Cond. No.                         6.41\n",
      "==============================================================================\n",
      "\n",
      "Notes:\n",
      "[1] Standard Errors assume that the covariance matrix of the errors is correctly specified.\n"
     ]
    },
    {
     "data": {
      "text/html": [
       "<div>\n",
       "<style scoped>\n",
       "    .dataframe tbody tr th:only-of-type {\n",
       "        vertical-align: middle;\n",
       "    }\n",
       "\n",
       "    .dataframe tbody tr th {\n",
       "        vertical-align: top;\n",
       "    }\n",
       "\n",
       "    .dataframe thead th {\n",
       "        text-align: right;\n",
       "    }\n",
       "</style>\n",
       "<table border=\"1\" class=\"dataframe\">\n",
       "  <thead>\n",
       "    <tr style=\"text-align: right;\">\n",
       "      <th></th>\n",
       "      <th>Features</th>\n",
       "      <th>VIF</th>\n",
       "    </tr>\n",
       "  </thead>\n",
       "  <tbody>\n",
       "    <tr>\n",
       "      <th>1</th>\n",
       "      <td>workingday</td>\n",
       "      <td>9.06</td>\n",
       "    </tr>\n",
       "    <tr>\n",
       "      <th>11</th>\n",
       "      <td>Sunday</td>\n",
       "      <td>6.05</td>\n",
       "    </tr>\n",
       "    <tr>\n",
       "      <th>10</th>\n",
       "      <td>Monday</td>\n",
       "      <td>5.74</td>\n",
       "    </tr>\n",
       "    <tr>\n",
       "      <th>5</th>\n",
       "      <td>Spring</td>\n",
       "      <td>5.00</td>\n",
       "    </tr>\n",
       "    <tr>\n",
       "      <th>2</th>\n",
       "      <td>temp</td>\n",
       "      <td>3.56</td>\n",
       "    </tr>\n",
       "    <tr>\n",
       "      <th>7</th>\n",
       "      <td>Winter</td>\n",
       "      <td>3.49</td>\n",
       "    </tr>\n",
       "    <tr>\n",
       "      <th>6</th>\n",
       "      <td>Summer</td>\n",
       "      <td>2.62</td>\n",
       "    </tr>\n",
       "    <tr>\n",
       "      <th>3</th>\n",
       "      <td>hum</td>\n",
       "      <td>1.61</td>\n",
       "    </tr>\n",
       "    <tr>\n",
       "      <th>8</th>\n",
       "      <td>July</td>\n",
       "      <td>1.49</td>\n",
       "    </tr>\n",
       "    <tr>\n",
       "      <th>12</th>\n",
       "      <td>Moderate</td>\n",
       "      <td>1.40</td>\n",
       "    </tr>\n",
       "    <tr>\n",
       "      <th>9</th>\n",
       "      <td>September</td>\n",
       "      <td>1.30</td>\n",
       "    </tr>\n",
       "    <tr>\n",
       "      <th>4</th>\n",
       "      <td>windspeed</td>\n",
       "      <td>1.15</td>\n",
       "    </tr>\n",
       "    <tr>\n",
       "      <th>0</th>\n",
       "      <td>yr</td>\n",
       "      <td>1.04</td>\n",
       "    </tr>\n",
       "  </tbody>\n",
       "</table>\n",
       "</div>"
      ],
      "text/plain": [
       "      Features   VIF\n",
       "1   workingday  9.06\n",
       "11      Sunday  6.05\n",
       "10      Monday  5.74\n",
       "5       Spring  5.00\n",
       "2         temp  3.56\n",
       "7       Winter  3.49\n",
       "6       Summer  2.62\n",
       "3          hum  1.61\n",
       "8         July  1.49\n",
       "12    Moderate  1.40\n",
       "9    September  1.30\n",
       "4    windspeed  1.15\n",
       "0           yr  1.04"
      ]
     },
     "execution_count": 64,
     "metadata": {},
     "output_type": "execute_result"
    }
   ],
   "source": [
    "generate_model_with_summary(X_train_rfe_3, y_train)\n",
    "calculate_VIF(X_train_rfe_3)"
   ]
  },
  {
   "cell_type": "markdown",
   "id": "a6fe1f76",
   "metadata": {},
   "source": [
    "### Model 4\n",
    "\n",
    "- ***Remove season (`Spring`) because it has a high p-value of 0.063***"
   ]
  },
  {
   "cell_type": "code",
   "execution_count": 65,
   "id": "34f6960e",
   "metadata": {},
   "outputs": [],
   "source": [
    "X_train_rfe_4 = X_train_rfe_3.drop(['Spring'], axis = 1)"
   ]
  },
  {
   "cell_type": "code",
   "execution_count": 66,
   "id": "8bc0c30c",
   "metadata": {},
   "outputs": [
    {
     "name": "stdout",
     "output_type": "stream",
     "text": [
      "                            OLS Regression Results                            \n",
      "==============================================================================\n",
      "Dep. Variable:                    cnt   R-squared:                       0.819\n",
      "Model:                            OLS   Adj. R-squared:                  0.814\n",
      "Method:                 Least Squares   F-statistic:                     187.2\n",
      "Date:                Wed, 22 Nov 2023   Prob (F-statistic):          8.22e-176\n",
      "Time:                        13:35:39   Log-Likelihood:                -4160.5\n",
      "No. Observations:                 511   AIC:                             8347.\n",
      "Df Residuals:                     498   BIC:                             8402.\n",
      "Df Model:                          12                                         \n",
      "Covariance Type:            nonrobust                                         \n",
      "==============================================================================\n",
      "                 coef    std err          t      P>|t|      [0.025      0.975]\n",
      "------------------------------------------------------------------------------\n",
      "const       4491.3033     37.249    120.576      0.000    4418.119    4564.487\n",
      "yr           998.2105     37.817     26.396      0.000     923.909    1072.512\n",
      "workingday   378.8989    112.052      3.381      0.001     158.747     599.051\n",
      "temp        1211.5671     46.872     25.848      0.000    1119.476    1303.658\n",
      "hum         -389.2018     47.032     -8.275      0.000    -481.607    -296.797\n",
      "windspeed   -345.0830     39.713     -8.689      0.000    -423.109    -267.057\n",
      "Summer       307.3347     42.961      7.154      0.000     222.927     391.742\n",
      "Winter       500.0964     42.250     11.837      0.000     417.087     583.106\n",
      "July        -125.1104     44.534     -2.809      0.005    -212.607     -37.613\n",
      "September    211.9814     40.627      5.218      0.000     132.159     291.803\n",
      "Monday       173.5354     89.202      1.945      0.052      -1.723     348.794\n",
      "Sunday       317.8741     91.539      3.473      0.001     138.023     497.725\n",
      "Moderate     -95.6949     43.976     -2.176      0.030    -182.097      -9.293\n",
      "==============================================================================\n",
      "Omnibus:                       99.432   Durbin-Watson:                   2.052\n",
      "Prob(Omnibus):                  0.000   Jarque-Bera (JB):              253.010\n",
      "Skew:                          -0.974   Prob(JB):                     1.15e-55\n",
      "Kurtosis:                       5.845   Cond. No.                         6.00\n",
      "==============================================================================\n",
      "\n",
      "Notes:\n",
      "[1] Standard Errors assume that the covariance matrix of the errors is correctly specified.\n"
     ]
    },
    {
     "data": {
      "text/html": [
       "<div>\n",
       "<style scoped>\n",
       "    .dataframe tbody tr th:only-of-type {\n",
       "        vertical-align: middle;\n",
       "    }\n",
       "\n",
       "    .dataframe tbody tr th {\n",
       "        vertical-align: top;\n",
       "    }\n",
       "\n",
       "    .dataframe thead th {\n",
       "        text-align: right;\n",
       "    }\n",
       "</style>\n",
       "<table border=\"1\" class=\"dataframe\">\n",
       "  <thead>\n",
       "    <tr style=\"text-align: right;\">\n",
       "      <th></th>\n",
       "      <th>Features</th>\n",
       "      <th>VIF</th>\n",
       "    </tr>\n",
       "  </thead>\n",
       "  <tbody>\n",
       "    <tr>\n",
       "      <th>1</th>\n",
       "      <td>workingday</td>\n",
       "      <td>9.05</td>\n",
       "    </tr>\n",
       "    <tr>\n",
       "      <th>10</th>\n",
       "      <td>Sunday</td>\n",
       "      <td>6.04</td>\n",
       "    </tr>\n",
       "    <tr>\n",
       "      <th>9</th>\n",
       "      <td>Monday</td>\n",
       "      <td>5.73</td>\n",
       "    </tr>\n",
       "    <tr>\n",
       "      <th>3</th>\n",
       "      <td>hum</td>\n",
       "      <td>1.59</td>\n",
       "    </tr>\n",
       "    <tr>\n",
       "      <th>2</th>\n",
       "      <td>temp</td>\n",
       "      <td>1.58</td>\n",
       "    </tr>\n",
       "    <tr>\n",
       "      <th>7</th>\n",
       "      <td>July</td>\n",
       "      <td>1.43</td>\n",
       "    </tr>\n",
       "    <tr>\n",
       "      <th>11</th>\n",
       "      <td>Moderate</td>\n",
       "      <td>1.39</td>\n",
       "    </tr>\n",
       "    <tr>\n",
       "      <th>5</th>\n",
       "      <td>Summer</td>\n",
       "      <td>1.33</td>\n",
       "    </tr>\n",
       "    <tr>\n",
       "      <th>6</th>\n",
       "      <td>Winter</td>\n",
       "      <td>1.29</td>\n",
       "    </tr>\n",
       "    <tr>\n",
       "      <th>8</th>\n",
       "      <td>September</td>\n",
       "      <td>1.19</td>\n",
       "    </tr>\n",
       "    <tr>\n",
       "      <th>4</th>\n",
       "      <td>windspeed</td>\n",
       "      <td>1.14</td>\n",
       "    </tr>\n",
       "    <tr>\n",
       "      <th>0</th>\n",
       "      <td>yr</td>\n",
       "      <td>1.03</td>\n",
       "    </tr>\n",
       "  </tbody>\n",
       "</table>\n",
       "</div>"
      ],
      "text/plain": [
       "      Features   VIF\n",
       "1   workingday  9.05\n",
       "10      Sunday  6.04\n",
       "9       Monday  5.73\n",
       "3          hum  1.59\n",
       "2         temp  1.58\n",
       "7         July  1.43\n",
       "11    Moderate  1.39\n",
       "5       Summer  1.33\n",
       "6       Winter  1.29\n",
       "8    September  1.19\n",
       "4    windspeed  1.14\n",
       "0           yr  1.03"
      ]
     },
     "execution_count": 66,
     "metadata": {},
     "output_type": "execute_result"
    }
   ],
   "source": [
    "generate_model_with_summary(X_train_rfe_4, y_train)\n",
    "calculate_VIF(X_train_rfe_4)"
   ]
  },
  {
   "cell_type": "markdown",
   "id": "a9cbb96a",
   "metadata": {},
   "source": [
    "### Model 5\n",
    "\n",
    "- ***Remove (`Monday`) because it has a high p-value of 0.052 and high VIF value of 5.73***"
   ]
  },
  {
   "cell_type": "code",
   "execution_count": 67,
   "id": "03f22205",
   "metadata": {},
   "outputs": [],
   "source": [
    "X_train_rfe_5 = X_train_rfe_4.drop(['Monday'], axis = 1)"
   ]
  },
  {
   "cell_type": "code",
   "execution_count": 68,
   "id": "97d8af9b",
   "metadata": {},
   "outputs": [
    {
     "name": "stdout",
     "output_type": "stream",
     "text": [
      "                            OLS Regression Results                            \n",
      "==============================================================================\n",
      "Dep. Variable:                    cnt   R-squared:                       0.817\n",
      "Model:                            OLS   Adj. R-squared:                  0.813\n",
      "Method:                 Least Squares   F-statistic:                     202.8\n",
      "Date:                Wed, 22 Nov 2023   Prob (F-statistic):          3.68e-176\n",
      "Time:                        13:35:39   Log-Likelihood:                -4162.4\n",
      "No. Observations:                 511   AIC:                             8349.\n",
      "Df Residuals:                     499   BIC:                             8400.\n",
      "Df Model:                          11                                         \n",
      "Covariance Type:            nonrobust                                         \n",
      "==============================================================================\n",
      "                 coef    std err          t      P>|t|      [0.025      0.975]\n",
      "------------------------------------------------------------------------------\n",
      "const       4491.3033     37.353    120.241      0.000    4417.916    4564.691\n",
      "yr           999.0236     37.921     26.345      0.000     924.520    1073.527\n",
      "workingday   181.6750     47.861      3.796      0.000      87.642     275.708\n",
      "temp        1214.0174     46.986     25.838      0.000    1121.704    1306.331\n",
      "hum         -386.8500     47.147     -8.205      0.000    -479.482    -294.218\n",
      "windspeed   -345.8619     39.822     -8.685      0.000    -424.101    -267.623\n",
      "Summer       310.5043     43.050      7.213      0.000     225.923     395.086\n",
      "Winter       499.2309     42.365     11.784      0.000     415.995     582.466\n",
      "July        -122.0944     44.631     -2.736      0.006    -209.782     -34.407\n",
      "September    207.8613     40.685      5.109      0.000     127.926     287.796\n",
      "Sunday       165.7530     47.725      3.473      0.001      71.986     259.520\n",
      "Moderate     -94.9121     44.097     -2.152      0.032    -181.551      -8.274\n",
      "==============================================================================\n",
      "Omnibus:                      102.331   Durbin-Watson:                   2.035\n",
      "Prob(Omnibus):                  0.000   Jarque-Bera (JB):              266.621\n",
      "Skew:                          -0.992   Prob(JB):                     1.27e-58\n",
      "Kurtosis:                       5.930   Cond. No.                         2.28\n",
      "==============================================================================\n",
      "\n",
      "Notes:\n",
      "[1] Standard Errors assume that the covariance matrix of the errors is correctly specified.\n"
     ]
    },
    {
     "data": {
      "text/html": [
       "<div>\n",
       "<style scoped>\n",
       "    .dataframe tbody tr th:only-of-type {\n",
       "        vertical-align: middle;\n",
       "    }\n",
       "\n",
       "    .dataframe tbody tr th {\n",
       "        vertical-align: top;\n",
       "    }\n",
       "\n",
       "    .dataframe thead th {\n",
       "        text-align: right;\n",
       "    }\n",
       "</style>\n",
       "<table border=\"1\" class=\"dataframe\">\n",
       "  <thead>\n",
       "    <tr style=\"text-align: right;\">\n",
       "      <th></th>\n",
       "      <th>Features</th>\n",
       "      <th>VIF</th>\n",
       "    </tr>\n",
       "  </thead>\n",
       "  <tbody>\n",
       "    <tr>\n",
       "      <th>1</th>\n",
       "      <td>workingday</td>\n",
       "      <td>1.64</td>\n",
       "    </tr>\n",
       "    <tr>\n",
       "      <th>9</th>\n",
       "      <td>Sunday</td>\n",
       "      <td>1.63</td>\n",
       "    </tr>\n",
       "    <tr>\n",
       "      <th>3</th>\n",
       "      <td>hum</td>\n",
       "      <td>1.59</td>\n",
       "    </tr>\n",
       "    <tr>\n",
       "      <th>2</th>\n",
       "      <td>temp</td>\n",
       "      <td>1.58</td>\n",
       "    </tr>\n",
       "    <tr>\n",
       "      <th>7</th>\n",
       "      <td>July</td>\n",
       "      <td>1.43</td>\n",
       "    </tr>\n",
       "    <tr>\n",
       "      <th>10</th>\n",
       "      <td>Moderate</td>\n",
       "      <td>1.39</td>\n",
       "    </tr>\n",
       "    <tr>\n",
       "      <th>5</th>\n",
       "      <td>Summer</td>\n",
       "      <td>1.33</td>\n",
       "    </tr>\n",
       "    <tr>\n",
       "      <th>6</th>\n",
       "      <td>Winter</td>\n",
       "      <td>1.29</td>\n",
       "    </tr>\n",
       "    <tr>\n",
       "      <th>8</th>\n",
       "      <td>September</td>\n",
       "      <td>1.19</td>\n",
       "    </tr>\n",
       "    <tr>\n",
       "      <th>4</th>\n",
       "      <td>windspeed</td>\n",
       "      <td>1.14</td>\n",
       "    </tr>\n",
       "    <tr>\n",
       "      <th>0</th>\n",
       "      <td>yr</td>\n",
       "      <td>1.03</td>\n",
       "    </tr>\n",
       "  </tbody>\n",
       "</table>\n",
       "</div>"
      ],
      "text/plain": [
       "      Features   VIF\n",
       "1   workingday  1.64\n",
       "9       Sunday  1.63\n",
       "3          hum  1.59\n",
       "2         temp  1.58\n",
       "7         July  1.43\n",
       "10    Moderate  1.39\n",
       "5       Summer  1.33\n",
       "6       Winter  1.29\n",
       "8    September  1.19\n",
       "4    windspeed  1.14\n",
       "0           yr  1.03"
      ]
     },
     "execution_count": 68,
     "metadata": {},
     "output_type": "execute_result"
    }
   ],
   "source": [
    "generate_model_with_summary(X_train_rfe_5, y_train)\n",
    "calculate_VIF(X_train_rfe_5)"
   ]
  },
  {
   "cell_type": "markdown",
   "id": "1af94067",
   "metadata": {},
   "source": [
    "#### The model appears favorable, with a low Prob (F-statistic) of 3.68e-176, minimal p-values, VIF below 5 for all features, and $R^2$ and Adjusted $R^2$ values of 0.817 and 0.813. However, further refinement is planned to explore potential feature reduction without significant impact on $R^2$."
   ]
  },
  {
   "cell_type": "markdown",
   "id": "5d0c18d4",
   "metadata": {},
   "source": [
    "### Model 6\n",
    "\n",
    "- ***Remove weathersit (`Moderate`) because it has a marginal p-value of 0.032***"
   ]
  },
  {
   "cell_type": "code",
   "execution_count": 69,
   "id": "1aa7f587",
   "metadata": {},
   "outputs": [],
   "source": [
    "X_train_rfe_6 = X_train_rfe_5.drop(['Moderate'], axis = 1)"
   ]
  },
  {
   "cell_type": "code",
   "execution_count": 70,
   "id": "a45dd9c4",
   "metadata": {},
   "outputs": [
    {
     "name": "stdout",
     "output_type": "stream",
     "text": [
      "                            OLS Regression Results                            \n",
      "==============================================================================\n",
      "Dep. Variable:                    cnt   R-squared:                       0.815\n",
      "Model:                            OLS   Adj. R-squared:                  0.812\n",
      "Method:                 Least Squares   F-statistic:                     221.0\n",
      "Date:                Wed, 22 Nov 2023   Prob (F-statistic):          2.40e-176\n",
      "Time:                        13:35:39   Log-Likelihood:                -4164.8\n",
      "No. Observations:                 511   AIC:                             8352.\n",
      "Df Residuals:                     500   BIC:                             8398.\n",
      "Df Model:                          10                                         \n",
      "Covariance Type:            nonrobust                                         \n",
      "==============================================================================\n",
      "                 coef    std err          t      P>|t|      [0.025      0.975]\n",
      "------------------------------------------------------------------------------\n",
      "const       4491.3033     37.488    119.807      0.000    4417.650    4564.957\n",
      "yr           994.0877     37.988     26.168      0.000     919.451    1068.724\n",
      "workingday   174.4742     47.917      3.641      0.000      80.331     268.617\n",
      "temp        1232.5019     46.362     26.585      0.000    1141.415    1323.589\n",
      "hum         -438.8782     40.626    -10.803      0.000    -518.696    -359.060\n",
      "windspeed   -352.2978     39.854     -8.840      0.000    -430.599    -273.997\n",
      "Summer       307.3307     43.181      7.117      0.000     222.493     392.169\n",
      "Winter       508.5255     42.297     12.023      0.000     425.424     591.627\n",
      "July        -121.1828     44.790     -2.706      0.007    -209.184     -33.182\n",
      "September    206.8754     40.830      5.067      0.000     126.656     287.095\n",
      "Sunday       159.0438     47.796      3.328      0.001      65.138     252.950\n",
      "==============================================================================\n",
      "Omnibus:                       95.597   Durbin-Watson:                   2.021\n",
      "Prob(Omnibus):                  0.000   Jarque-Bera (JB):              226.313\n",
      "Skew:                          -0.964   Prob(JB):                     7.19e-50\n",
      "Kurtosis:                       5.629   Cond. No.                         2.20\n",
      "==============================================================================\n",
      "\n",
      "Notes:\n",
      "[1] Standard Errors assume that the covariance matrix of the errors is correctly specified.\n"
     ]
    },
    {
     "data": {
      "text/html": [
       "<div>\n",
       "<style scoped>\n",
       "    .dataframe tbody tr th:only-of-type {\n",
       "        vertical-align: middle;\n",
       "    }\n",
       "\n",
       "    .dataframe tbody tr th {\n",
       "        vertical-align: top;\n",
       "    }\n",
       "\n",
       "    .dataframe thead th {\n",
       "        text-align: right;\n",
       "    }\n",
       "</style>\n",
       "<table border=\"1\" class=\"dataframe\">\n",
       "  <thead>\n",
       "    <tr style=\"text-align: right;\">\n",
       "      <th></th>\n",
       "      <th>Features</th>\n",
       "      <th>VIF</th>\n",
       "    </tr>\n",
       "  </thead>\n",
       "  <tbody>\n",
       "    <tr>\n",
       "      <th>1</th>\n",
       "      <td>workingday</td>\n",
       "      <td>1.63</td>\n",
       "    </tr>\n",
       "    <tr>\n",
       "      <th>9</th>\n",
       "      <td>Sunday</td>\n",
       "      <td>1.63</td>\n",
       "    </tr>\n",
       "    <tr>\n",
       "      <th>2</th>\n",
       "      <td>temp</td>\n",
       "      <td>1.53</td>\n",
       "    </tr>\n",
       "    <tr>\n",
       "      <th>7</th>\n",
       "      <td>July</td>\n",
       "      <td>1.43</td>\n",
       "    </tr>\n",
       "    <tr>\n",
       "      <th>5</th>\n",
       "      <td>Summer</td>\n",
       "      <td>1.33</td>\n",
       "    </tr>\n",
       "    <tr>\n",
       "      <th>6</th>\n",
       "      <td>Winter</td>\n",
       "      <td>1.27</td>\n",
       "    </tr>\n",
       "    <tr>\n",
       "      <th>8</th>\n",
       "      <td>September</td>\n",
       "      <td>1.19</td>\n",
       "    </tr>\n",
       "    <tr>\n",
       "      <th>3</th>\n",
       "      <td>hum</td>\n",
       "      <td>1.17</td>\n",
       "    </tr>\n",
       "    <tr>\n",
       "      <th>4</th>\n",
       "      <td>windspeed</td>\n",
       "      <td>1.13</td>\n",
       "    </tr>\n",
       "    <tr>\n",
       "      <th>0</th>\n",
       "      <td>yr</td>\n",
       "      <td>1.03</td>\n",
       "    </tr>\n",
       "  </tbody>\n",
       "</table>\n",
       "</div>"
      ],
      "text/plain": [
       "     Features   VIF\n",
       "1  workingday  1.63\n",
       "9      Sunday  1.63\n",
       "2        temp  1.53\n",
       "7        July  1.43\n",
       "5      Summer  1.33\n",
       "6      Winter  1.27\n",
       "8   September  1.19\n",
       "3         hum  1.17\n",
       "4   windspeed  1.13\n",
       "0          yr  1.03"
      ]
     },
     "execution_count": 70,
     "metadata": {},
     "output_type": "execute_result"
    }
   ],
   "source": [
    "generate_model_with_summary(X_train_rfe_6, y_train)\n",
    "calculate_VIF(X_train_rfe_6)"
   ]
  },
  {
   "cell_type": "markdown",
   "id": "7e527ffa",
   "metadata": {},
   "source": [
    "#### The model remains robust with minimal $R^2$ decrease; let's refine it by removing another feature and observe."
   ]
  },
  {
   "cell_type": "markdown",
   "id": "d63b1269",
   "metadata": {},
   "source": [
    "### Model 7\n",
    "\n",
    "- ***Remove Month (`July`) because it has a marginal p-value of 0.007***"
   ]
  },
  {
   "cell_type": "code",
   "execution_count": 71,
   "id": "4b2f2397",
   "metadata": {},
   "outputs": [],
   "source": [
    "X_train_rfe_7 = X_train_rfe_6.drop(['July'], axis = 1)"
   ]
  },
  {
   "cell_type": "code",
   "execution_count": 72,
   "id": "416fad46",
   "metadata": {},
   "outputs": [
    {
     "name": "stdout",
     "output_type": "stream",
     "text": [
      "                            OLS Regression Results                            \n",
      "==============================================================================\n",
      "Dep. Variable:                    cnt   R-squared:                       0.813\n",
      "Model:                            OLS   Adj. R-squared:                  0.809\n",
      "Method:                 Least Squares   F-statistic:                     241.7\n",
      "Date:                Wed, 22 Nov 2023   Prob (F-statistic):          5.60e-176\n",
      "Time:                        13:35:39   Log-Likelihood:                -4168.5\n",
      "No. Observations:                 511   AIC:                             8357.\n",
      "Df Residuals:                     501   BIC:                             8399.\n",
      "Df Model:                           9                                         \n",
      "Covariance Type:            nonrobust                                         \n",
      "==============================================================================\n",
      "                 coef    std err          t      P>|t|      [0.025      0.975]\n",
      "------------------------------------------------------------------------------\n",
      "const       4491.3033     37.724    119.058      0.000    4417.187    4565.419\n",
      "yr           998.7455     38.188     26.153      0.000     923.717    1073.774\n",
      "workingday   178.2754     48.197      3.699      0.000      83.582     272.969\n",
      "temp        1174.4898     41.364     28.394      0.000    1093.222    1255.757\n",
      "hum         -429.0727     40.718    -10.538      0.000    -509.072    -349.073\n",
      "windspeed   -349.1455     40.087     -8.710      0.000    -427.905    -270.386\n",
      "Summer       344.8390     41.152      8.380      0.000     263.988     425.690\n",
      "Winter       526.7983     42.017     12.538      0.000     444.247     609.349\n",
      "September    234.6988     39.762      5.903      0.000     156.578     312.820\n",
      "Sunday       159.9793     48.095      3.326      0.001      65.486     254.473\n",
      "==============================================================================\n",
      "Omnibus:                      100.383   Durbin-Watson:                   2.058\n",
      "Prob(Omnibus):                  0.000   Jarque-Bera (JB):              238.564\n",
      "Skew:                          -1.008   Prob(JB):                     1.57e-52\n",
      "Kurtosis:                       5.672   Cond. No.                         2.12\n",
      "==============================================================================\n",
      "\n",
      "Notes:\n",
      "[1] Standard Errors assume that the covariance matrix of the errors is correctly specified.\n"
     ]
    },
    {
     "data": {
      "text/html": [
       "<div>\n",
       "<style scoped>\n",
       "    .dataframe tbody tr th:only-of-type {\n",
       "        vertical-align: middle;\n",
       "    }\n",
       "\n",
       "    .dataframe tbody tr th {\n",
       "        vertical-align: top;\n",
       "    }\n",
       "\n",
       "    .dataframe thead th {\n",
       "        text-align: right;\n",
       "    }\n",
       "</style>\n",
       "<table border=\"1\" class=\"dataframe\">\n",
       "  <thead>\n",
       "    <tr style=\"text-align: right;\">\n",
       "      <th></th>\n",
       "      <th>Features</th>\n",
       "      <th>VIF</th>\n",
       "    </tr>\n",
       "  </thead>\n",
       "  <tbody>\n",
       "    <tr>\n",
       "      <th>1</th>\n",
       "      <td>workingday</td>\n",
       "      <td>1.63</td>\n",
       "    </tr>\n",
       "    <tr>\n",
       "      <th>8</th>\n",
       "      <td>Sunday</td>\n",
       "      <td>1.63</td>\n",
       "    </tr>\n",
       "    <tr>\n",
       "      <th>6</th>\n",
       "      <td>Winter</td>\n",
       "      <td>1.24</td>\n",
       "    </tr>\n",
       "    <tr>\n",
       "      <th>2</th>\n",
       "      <td>temp</td>\n",
       "      <td>1.20</td>\n",
       "    </tr>\n",
       "    <tr>\n",
       "      <th>5</th>\n",
       "      <td>Summer</td>\n",
       "      <td>1.19</td>\n",
       "    </tr>\n",
       "    <tr>\n",
       "      <th>3</th>\n",
       "      <td>hum</td>\n",
       "      <td>1.17</td>\n",
       "    </tr>\n",
       "    <tr>\n",
       "      <th>4</th>\n",
       "      <td>windspeed</td>\n",
       "      <td>1.13</td>\n",
       "    </tr>\n",
       "    <tr>\n",
       "      <th>7</th>\n",
       "      <td>September</td>\n",
       "      <td>1.11</td>\n",
       "    </tr>\n",
       "    <tr>\n",
       "      <th>0</th>\n",
       "      <td>yr</td>\n",
       "      <td>1.02</td>\n",
       "    </tr>\n",
       "  </tbody>\n",
       "</table>\n",
       "</div>"
      ],
      "text/plain": [
       "     Features   VIF\n",
       "1  workingday  1.63\n",
       "8      Sunday  1.63\n",
       "6      Winter  1.24\n",
       "2        temp  1.20\n",
       "5      Summer  1.19\n",
       "3         hum  1.17\n",
       "4   windspeed  1.13\n",
       "7   September  1.11\n",
       "0          yr  1.02"
      ]
     },
     "execution_count": 72,
     "metadata": {},
     "output_type": "execute_result"
    }
   ],
   "source": [
    "final_lr_model = generate_model_with_summary(X_train_rfe_7, y_train)\n",
    "calculate_VIF(X_train_rfe_7)"
   ]
  },
  {
   "cell_type": "markdown",
   "id": "c9b31ad7",
   "metadata": {},
   "source": [
    "#### The model is deemed satisfactory with a remarkably low Prob (F-statistic) of 5.60e-176, features displaying low p-values and VIF, and $R^2$ and Adjusted $R^2$ values of 0.813 and 0.809, slightly lower than model 5. This will serve as the final evaluation model."
   ]
  },
  {
   "cell_type": "markdown",
   "id": "0511086b",
   "metadata": {},
   "source": [
    "###### This marks the final model, and we will now assess its performance on the training set."
   ]
  },
  {
   "cell_type": "markdown",
   "id": "90c90027",
   "metadata": {},
   "source": [
    "### Model Evaluation"
   ]
  },
  {
   "cell_type": "markdown",
   "id": "53fbd19c",
   "metadata": {},
   "source": [
    "### Residual Analysis\n",
    "\n",
    "Residual analysis is performed to assess the goodness of fit and identify patterns or anomalies in the model's predictions."
   ]
  },
  {
   "cell_type": "code",
   "execution_count": 73,
   "id": "dc2ed07f",
   "metadata": {},
   "outputs": [],
   "source": [
    "# Fetch the final model and the X_train_sm from the final_lr_model\n",
    "model, X_train_sm = final_lr_model.values()"
   ]
  },
  {
   "cell_type": "code",
   "execution_count": 74,
   "id": "9b6565ea",
   "metadata": {},
   "outputs": [],
   "source": [
    "# Calculate y_train_pred\n",
    "y_train_pred = model.predict(X_train_sm)"
   ]
  },
  {
   "cell_type": "markdown",
   "id": "88eed8d9",
   "metadata": {},
   "source": [
    "Linear regression models are based on several key assumptions:\n",
    "\n",
    "1. **Linearity:** The relationship between the independent and dependent variables is assumed to be linear.\n",
    "\n",
    "2. **Independence:** Residuals (the differences between observed and predicted values) should be independent of each other.\n",
    "\n",
    "3. **Homoscedasticity:** The variance of residuals should be constant across all levels of the independent variables, indicating consistent levels of variability.\n",
    "\n",
    "4. **Normality of Residuals:** The residuals should be approximately normally distributed.\n",
    "\n",
    "5. **No Perfect Multicollinearity:** Independent variables should not exhibit high correlation with each other, avoiding multicollinearity issues.\n",
    "\n",
    "Violation of these assumptions can affect the accuracy and reliability of the linear regression model, and diagnostic checks are often performed to assess adherence to these assumptions."
   ]
  },
  {
   "cell_type": "code",
   "execution_count": 75,
   "id": "dfcc80f0",
   "metadata": {},
   "outputs": [
    {
     "data": {
      "text/plain": [
       "<Figure size 800x500 with 0 Axes>"
      ]
     },
     "metadata": {},
     "output_type": "display_data"
    },
    {
     "data": {
      "image/png": "[encoded data removed]",
      "text/plain": [
       "<Figure size 500x500 with 1 Axes>"
      ]
     },
     "metadata": {},
     "output_type": "display_data"
    }
   ],
   "source": [
    "# Plot the histogram of the error terms on the training set\n",
    "residuals = y_train - y_train_pred\n",
    "fig = plt.figure(figsize = (8, 5))\n",
    "sns.displot(residuals, bins = 20, kde = True)\n",
    "plt.xlabel('Errors', fontsize = 12)\n",
    "plt.show()"
   ]
  },
  {
   "cell_type": "markdown",
   "id": "ad29ac4b",
   "metadata": {},
   "source": [
    "- ***The error terms follow the principle of a normal distribution curve.***"
   ]
  },
  {
   "cell_type": "markdown",
   "id": "73de302d",
   "metadata": {},
   "source": [
    "### Homoscedasticity"
   ]
  },
  {
   "cell_type": "code",
   "execution_count": 76,
   "id": "a4572689",
   "metadata": {},
   "outputs": [
    {
     "data": {
      "image/png": "[encoded data removed]",
      "text/plain": [
       "<Figure size 640x480 with 1 Axes>"
      ]
     },
     "metadata": {},
     "output_type": "display_data"
    }
   ],
   "source": [
    "# Visualize Homoscedasticity\n",
    "sns.scatterplot(x = y_train_pred, y = residuals)\n",
    "plt.xlabel('Predicted Values')\n",
    "plt.ylabel('Residuals')\n",
    "plt.title('Homoscedasticity')\n",
    "plt.axhline(y = 0, color = 'r', linestyle = '--')\n",
    "plt.show()"
   ]
  },
  {
   "cell_type": "markdown",
   "id": "49970a80",
   "metadata": {},
   "source": [
    "- ***The variance of residuals is constant across all levels of the independent variables, indicating consistent levels of variability.***"
   ]
  },
  {
   "cell_type": "code",
   "execution_count": 77,
   "id": "43843af9",
   "metadata": {},
   "outputs": [
    {
     "data": {
      "image/png": "[encoded data removed]",
      "text/plain": [
       "<Figure size 640x480 with 1 Axes>"
      ]
     },
     "metadata": {},
     "output_type": "display_data"
    }
   ],
   "source": [
    "# Visualize the trained model using a scatter plot with a linear regression fit line\n",
    "sns.regplot(x = y_train, y = y_train_pred, line_kws = { 'color': 'red' }, scatter_kws = { 's' : 25, 'color': 'blue' })\n",
    "\n",
    "# Show the plot\n",
    "plt.title('y_train v/s y_train_pred')\n",
    "plt.xlabel('y_train')\n",
    "plt.ylabel('y_train_pred') \n",
    "plt.show()"
   ]
  },
  {
   "cell_type": "code",
   "execution_count": 78,
   "id": "493498e9",
   "metadata": {},
   "outputs": [
    {
     "name": "stdout",
     "output_type": "stream",
     "text": [
      "844.3702272224166\n"
     ]
    }
   ],
   "source": [
    "# Calculate mean squared error of the training set\n",
    "mse_train = mean_squared_error(y_train, y_train_pred)\n",
    "\n",
    "# Calculate RMSE\n",
    "rmse_train = np.sqrt(mse_train)\n",
    "\n",
    "print(rmse_train)"
   ]
  },
  {
   "cell_type": "markdown",
   "id": "aaf26737",
   "metadata": {},
   "source": [
    "##### The linear model's assumptions hold, indicating it is well-trained and ready for testing on the test set."
   ]
  },
  {
   "cell_type": "markdown",
   "id": "077d9585",
   "metadata": {},
   "source": [
    "### Predict Using the Final Model on the test set"
   ]
  },
  {
   "cell_type": "code",
   "execution_count": 79,
   "id": "2bcb5bc6",
   "metadata": {},
   "outputs": [
    {
     "data": {
      "text/html": [
       "<div>\n",
       "<style scoped>\n",
       "    .dataframe tbody tr th:only-of-type {\n",
       "        vertical-align: middle;\n",
       "    }\n",
       "\n",
       "    .dataframe tbody tr th {\n",
       "        vertical-align: top;\n",
       "    }\n",
       "\n",
       "    .dataframe thead th {\n",
       "        text-align: right;\n",
       "    }\n",
       "</style>\n",
       "<table border=\"1\" class=\"dataframe\">\n",
       "  <thead>\n",
       "    <tr style=\"text-align: right;\">\n",
       "      <th></th>\n",
       "      <th>yr</th>\n",
       "      <th>workingday</th>\n",
       "      <th>temp</th>\n",
       "      <th>hum</th>\n",
       "      <th>windspeed</th>\n",
       "      <th>Summer</th>\n",
       "      <th>Winter</th>\n",
       "      <th>September</th>\n",
       "      <th>Sunday</th>\n",
       "    </tr>\n",
       "  </thead>\n",
       "  <tbody>\n",
       "    <tr>\n",
       "      <th>184</th>\n",
       "      <td>-1.01777</td>\n",
       "      <td>-1.448092</td>\n",
       "      <td>1.306004</td>\n",
       "      <td>0.048287</td>\n",
       "      <td>-1.396242</td>\n",
       "      <td>-0.572078</td>\n",
       "      <td>-0.575091</td>\n",
       "      <td>-0.295354</td>\n",
       "      <td>-0.427633</td>\n",
       "    </tr>\n",
       "    <tr>\n",
       "      <th>535</th>\n",
       "      <td>0.98254</td>\n",
       "      <td>0.690564</td>\n",
       "      <td>1.614633</td>\n",
       "      <td>-0.276107</td>\n",
       "      <td>-0.986093</td>\n",
       "      <td>1.748015</td>\n",
       "      <td>-0.575091</td>\n",
       "      <td>-0.295354</td>\n",
       "      <td>-0.427633</td>\n",
       "    </tr>\n",
       "    <tr>\n",
       "      <th>299</th>\n",
       "      <td>-1.01777</td>\n",
       "      <td>0.690564</td>\n",
       "      <td>-0.112776</td>\n",
       "      <td>1.286864</td>\n",
       "      <td>0.078844</td>\n",
       "      <td>-0.572078</td>\n",
       "      <td>1.738857</td>\n",
       "      <td>-0.295354</td>\n",
       "      <td>-0.427633</td>\n",
       "    </tr>\n",
       "    <tr>\n",
       "      <th>221</th>\n",
       "      <td>-1.01777</td>\n",
       "      <td>0.690564</td>\n",
       "      <td>1.527113</td>\n",
       "      <td>-1.464546</td>\n",
       "      <td>0.110494</td>\n",
       "      <td>-0.572078</td>\n",
       "      <td>-0.575091</td>\n",
       "      <td>-0.295354</td>\n",
       "      <td>-0.427633</td>\n",
       "    </tr>\n",
       "    <tr>\n",
       "      <th>152</th>\n",
       "      <td>-1.01777</td>\n",
       "      <td>0.690564</td>\n",
       "      <td>1.241512</td>\n",
       "      <td>-2.307960</td>\n",
       "      <td>1.277902</td>\n",
       "      <td>1.748015</td>\n",
       "      <td>-0.575091</td>\n",
       "      <td>-0.295354</td>\n",
       "      <td>-0.427633</td>\n",
       "    </tr>\n",
       "  </tbody>\n",
       "</table>\n",
       "</div>"
      ],
      "text/plain": [
       "          yr  workingday      temp       hum  windspeed    Summer    Winter  \\\n",
       "184 -1.01777   -1.448092  1.306004  0.048287  -1.396242 -0.572078 -0.575091   \n",
       "535  0.98254    0.690564  1.614633 -0.276107  -0.986093  1.748015 -0.575091   \n",
       "299 -1.01777    0.690564 -0.112776  1.286864   0.078844 -0.572078  1.738857   \n",
       "221 -1.01777    0.690564  1.527113 -1.464546   0.110494 -0.572078 -0.575091   \n",
       "152 -1.01777    0.690564  1.241512 -2.307960   1.277902  1.748015 -0.575091   \n",
       "\n",
       "     September    Sunday  \n",
       "184  -0.295354 -0.427633  \n",
       "535  -0.295354 -0.427633  \n",
       "299  -0.295354 -0.427633  \n",
       "221  -0.295354 -0.427633  \n",
       "152  -0.295354 -0.427633  "
      ]
     },
     "execution_count": 79,
     "metadata": {},
     "output_type": "execute_result"
    }
   ],
   "source": [
    "# Retain only the selected feature from the final model\n",
    "X_test_scaled = X_test_scaled[X_train_rfe_7.columns]\n",
    "X_test_scaled.head()"
   ]
  },
  {
   "cell_type": "code",
   "execution_count": 80,
   "id": "1df1462a",
   "metadata": {},
   "outputs": [],
   "source": [
    "# Add constant to the test set\n",
    "X_test_sm = sm.add_constant(X_test_scaled)"
   ]
  },
  {
   "cell_type": "code",
   "execution_count": 81,
   "id": "70394fdb",
   "metadata": {},
   "outputs": [],
   "source": [
    "# Get the predicted values from the linear model\n",
    "y_test_pred = model.predict(X_test_sm)"
   ]
  },
  {
   "cell_type": "markdown",
   "id": "7e47d47b",
   "metadata": {},
   "source": [
    "### Calculating $R^2$ Scores and Adjusted $R^2$ Scores for the test set"
   ]
  },
  {
   "cell_type": "code",
   "execution_count": 82,
   "id": "31955d52",
   "metadata": {},
   "outputs": [
    {
     "data": {
      "text/plain": [
       "0.8"
      ]
     },
     "execution_count": 82,
     "metadata": {},
     "output_type": "execute_result"
    }
   ],
   "source": [
    "# Calculate R2 Score for the test set\n",
    "r2_score_test = r2_score(y_true = y_test, y_pred = y_test_pred)\n",
    "r2_score_test = round(r2_score_test, 2)\n",
    "r2_score_test"
   ]
  },
  {
   "cell_type": "code",
   "execution_count": 83,
   "id": "de32250e",
   "metadata": {},
   "outputs": [
    {
     "data": {
      "text/plain": [
       "0.8"
      ]
     },
     "execution_count": 83,
     "metadata": {},
     "output_type": "execute_result"
    }
   ],
   "source": [
    "# Calculate Adjusted R2 Score for the test set\n",
    "adj_r2_score_test = round(adjusted_r2_score(y_test, y_test_pred, n_features = len(X_test_scaled.columns)), 2)\n",
    "adj_r2_score_test"
   ]
  },
  {
   "cell_type": "code",
   "execution_count": 84,
   "id": "102d1781",
   "metadata": {},
   "outputs": [
    {
     "data": {
      "image/png": "[encoded data removed]",
      "text/plain": [
       "<Figure size 640x480 with 1 Axes>"
      ]
     },
     "metadata": {},
     "output_type": "display_data"
    }
   ],
   "source": [
    "# Visualize the predicted model using a scatter plot with a linear regression fit line\n",
    "sns.regplot(x = y_test, y = y_test_pred, line_kws = { 'color': 'red' }, scatter_kws = { 's' : 25, 'color': 'blue' })\n",
    "\n",
    "# Show the plot\n",
    "plt.title('y_test v/s y_test_pred')\n",
    "plt.xlabel('y_test')\n",
    "plt.ylabel('y_test_pred') \n",
    "plt.show()"
   ]
  },
  {
   "cell_type": "code",
   "execution_count": 85,
   "id": "aadbbb86",
   "metadata": {},
   "outputs": [
    {
     "name": "stdout",
     "output_type": "stream",
     "text": [
      "839.5337851082872\n"
     ]
    }
   ],
   "source": [
    "# Calculate mean squared error of the test set\n",
    "mse_test = mean_squared_error(y_test, y_test_pred)\n",
    "\n",
    "# Calculate RMSE\n",
    "rmse_test = np.sqrt(mse_test)\n",
    "\n",
    "print(rmse_test)"
   ]
  },
  {
   "cell_type": "code",
   "execution_count": 86,
   "id": "2ccf6058",
   "metadata": {},
   "outputs": [
    {
     "data": {
      "text/plain": [
       "const         4491.30\n",
       "yr             998.75\n",
       "workingday     178.28\n",
       "temp          1174.49\n",
       "hum           -429.07\n",
       "windspeed     -349.15\n",
       "Summer         344.84\n",
       "Winter         526.80\n",
       "September      234.70\n",
       "Sunday         159.98\n",
       "dtype: float64"
      ]
     },
     "execution_count": 86,
     "metadata": {},
     "output_type": "execute_result"
    }
   ],
   "source": [
    "# Coefficients of the final model\n",
    "round(model.params, 2)"
   ]
  },
  {
   "cell_type": "markdown",
   "id": "8e50cd27",
   "metadata": {},
   "source": [
    "### Equation of the best fit line"
   ]
  },
  {
   "cell_type": "markdown",
   "id": "60f256fd",
   "metadata": {},
   "source": [
    "In a multivariate linear regression model, the equation of the best-fit line is given by:\n",
    "\n",
    "$Y = $$\\beta_0$$ + $$\\beta_1X_1$$ + $$\\beta_2X_2$$ + $$\\ldots$$ + $$\\beta_nX_n$\n",
    "\n",
    "- \\( Y \\): Dependent variable (the variable being predicted), `cnt` in this case.\n",
    "- \\( $\\beta_0$ ): Y-intercept\n",
    "\n",
    "- ( $\\beta_1$, $\\beta_2$, $\\ldots$, $\\beta_n$ ): Coefficients for the independent variables ( $X_1$, $X_2$, $\\ldots$, $X_n$ \\) respectively.\n",
    "\n",
    "The coefficients are determined through a process that minimizes the sum of squared differences between predicted and actual values. The resulting line provides the best linear fit to the multivariate data."
   ]
  },
  {
   "cell_type": "markdown",
   "id": "2658e3fc",
   "metadata": {},
   "source": [
    "For our model, the best fit line is determined by the following equation:\n",
    "\n",
    "***cnt*** = 4491.30 + 998.75 x ***yr*** + 178.28 x ***workingday*** + 1174.49 x ***temp*** - 429.07 x ***hum*** - 349.15 x ***windspeed*** + 344.84 x ***Summer*** + 526.80 x ***Winter*** + 234.70 x ***September*** + 159.98 x ***Sunday***"
   ]
  },
  {
   "cell_type": "markdown",
   "id": "96d65e45",
   "metadata": {},
   "source": [
    "### Comparing $R^2$ Scores and Adjusted $R^2$ Scores for training and test set"
   ]
  },
  {
   "cell_type": "code",
   "execution_count": 87,
   "id": "17d8c301",
   "metadata": {},
   "outputs": [
    {
     "name": "stdout",
     "output_type": "stream",
     "text": [
      "Training Set: \tR2 - 0.810\n",
      "\t\tAdjusted R2 - 0.810\n",
      "\n",
      "Test Set: \tR2 - 0.800\n",
      "\t\tAdjusted R2 - 0.800\n"
     ]
    }
   ],
   "source": [
    "# Get R2 Score for Training set\n",
    "r2_score_train = round(model.rsquared, 2)\n",
    "adj_r2_score_train = round(model.rsquared_adj, 2)\n",
    "\n",
    "# Print the R2 and Adjusted R2 scores for the training and the test set\n",
    "print(f'Training Set: \\tR2 - {format(r2_score_train, \".3f\")}\\n\\t\\tAdjusted R2 - {format(adj_r2_score_train, \".3f\")}\\n')\n",
    "print(f'Test Set: \\tR2 - {format(r2_score_test, \".3f\")}\\n\\t\\tAdjusted R2 - {format(adj_r2_score_test, \".3f\")}')"
   ]
  },
  {
   "cell_type": "markdown",
   "id": "7894998b",
   "metadata": {},
   "source": [
    "- ***The close alignment of R2 and adjusted R2 values between the training and test sets (R2: 0.810 vs. 0.800 and Adjusted R2: 0.810 vs. 0.800) in a linear regression model indicates effective generalization. This similarity suggests the model avoids overfitting to the training data and is likely to perform consistently on new, unseen data.***"
   ]
  },
  {
   "cell_type": "markdown",
   "id": "d17d284a",
   "metadata": {},
   "source": [
    "## Conclusion\n",
    "\n",
    "- The equation of the best fit line is given by:\n",
    "    - ***cnt*** = 4491.30 + 998.75 x ***yr*** + 178.28 x ***workingday*** + 1174.49 x ***temp*** - 429.07 x ***hum*** - 349.15 x ***windspeed*** + 344.84 x ***Summer*** + 526.80 x ***Winter*** + 234.70 x ***September*** + 159.98 x ***Sunday***\n",
    "- The close alignment of R2 and adjusted R2 values between the training and test sets (R2: 0.810 vs. 0.800 and Adjusted R2: 0.810 vs. 0.800) in a linear regression model indicates effective generalization. This similarity suggests the model avoids overfitting to the training data and is likely to perform consistently on new, unseen data.\n",
    "- Bike demand is influenced by features such as **yr**, **workingday**, **temp**, **hum**, **windspeed**, **Summer**, **Winter**, **September**, and **Sunday**.\n",
    "- Three key feature variables, **temp**, **yr**, and **Winter**, exhibit the highest coefficient values, indicating their significant impact.\n",
    "- The RMSE values of **844** in the training set and **839** in the test set for a linear regression model indicate that the model is fitting well to the training data and generalizing reasonably to new, unseen data with a small difference between training and test set performance."
   ]
  },
  {
   "cell_type": "markdown",
   "id": "576cc29f",
   "metadata": {},
   "source": [
    "## Recommendations\n",
    "\n",
    "- **Leverage High-Impact Features:** Focus on features such as **temp**, **yr**, and **Winter** as they exhibit the highest coefficient values, indicating significant impact on bike demand.\n",
    "\n",
    "- **Seasonal Strategies:** Develop targeted marketing and pricing strategies for different seasons, particularly emphasizing promotions during **Summer** and **Winter**.\n",
    "\n",
    "- **Optimize Operational Planning:** Adjust bike availability and distribution based on the significant features identified, optimizing resources for peak demand periods.\n",
    "\n",
    "- **User Engagement on Weekends:** Capitalize on increased demand on **Sunday** by introducing special promotions or events to encourage bike usage during weekends.\n",
    "\n",
    "- **Weather-Sensitive Promotions:** Implement weather-specific promotions or incentives to encourage bike usage during favorable weather conditions, addressing the impact of **temp**, **hum**, and **windspeed**.\n",
    "\n",
    "- **New Market Insights:** Use the developed model to gain insights into demand dynamics in the American market, informing business strategies and positioning BoomBikes competitively.\n",
    "\n",
    "- **Continuous Monitoring and Adaptation:** Regularly update the model with new data and adapt strategies based on evolving market conditions to ensure sustained revenue growth."
   ]
  }
 ],
 "metadata": {
  "kernelspec": {
   "display_name": "Python 3 (ipykernel)",
   "language": "python",
   "name": "python3"
  },
  "language_info": {
   "codemirror_mode": {
    "name": "ipython",
    "version": 3
   },
   "file_extension": ".py",
   "mimetype": "text/x-python",
   "name": "python",
   "nbconvert_exporter": "python",
   "pygments_lexer": "ipython3",
   "version": "3.12.4"
  }
 },
 "nbformat": 4,
 "nbformat_minor": 5
}
